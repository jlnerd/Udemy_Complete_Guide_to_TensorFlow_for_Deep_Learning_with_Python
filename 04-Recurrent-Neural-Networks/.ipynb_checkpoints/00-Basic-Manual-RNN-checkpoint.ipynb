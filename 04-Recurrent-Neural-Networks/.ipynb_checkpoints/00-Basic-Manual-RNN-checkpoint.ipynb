{
 "cells": [
  {
   "cell_type": "markdown",
   "metadata": {},
   "source": [
    "# Basic Manual RNN"
   ]
  },
  {
   "cell_type": "code",
   "execution_count": 2,
   "metadata": {},
   "outputs": [],
   "source": [
    "import numpy as np\n",
    "import pandas as pd\n",
    "import tensorflow as tf\n",
    "import matplotlib.pyplot as plt"
   ]
  },
  {
   "cell_type": "code",
   "execution_count": 7,
   "metadata": {},
   "outputs": [],
   "source": [
    "# Constants\n",
    "n_inputs = 2\n",
    "n_neurons = 3\n",
    "\n",
    "#placeholders\n",
    "x0 = tf.placeholder(tf.float32, shape=[None, n_inputs])\n",
    "x1 = tf.placeholder(tf.float32, shape=[None, n_inputs])\n",
    "\n",
    "#Variables\n",
    "Wx = tf.Variable(tf.random_normal(shape=[n_inputs, n_neurons]))\n",
    "Wy = tf.Variable(tf.random_normal(shape=[n_neurons, n_neurons]))\n",
    "b = tf.Variable(tf.zeros([1,n_neurons]))\n",
    "\n",
    "#Graphs\n",
    "y0 = tf.tanh(tf.matmul(x0,Wx)+b)\n",
    "y1 = tf.tanh(tf.matmul(y0,Wy)+tf.matmul(x1,Wx)+b)\n",
    "\n",
    "#initialize\n",
    "init = tf.global_variables_initializer()\n",
    "\n",
    "#Creat dummy data of time stamp 0 \n",
    "x0_batch = np.array([[0,1],[2,3],[4,5]])\n",
    "\n",
    "#Create dummy data for time stamp 1\n",
    "x1_batch = np.array([[100,101],[102,103],[104,105]])\n",
    "\n",
    "#Run the session\n",
    "with tf.Session() as sess:\n",
    "    sess.run(init)\n",
    "    \n",
    "    y0_output_vals, y1_output_vals = sess.run([y0,y1],feed_dict = {x0:x0_batch,\n",
    "                                                                   x1: x1_batch})"
   ]
  },
  {
   "cell_type": "code",
   "execution_count": 8,
   "metadata": {},
   "outputs": [
    {
     "data": {
      "text/plain": [
       "array([[ 0.61642975, -0.85889465, -0.21298291],\n",
       "       [ 0.99984974, -0.99973416, -0.71413517],\n",
       "       [ 1.        , -0.99999964, -0.9177939 ]], dtype=float32)"
      ]
     },
     "execution_count": 8,
     "metadata": {},
     "output_type": "execute_result"
    }
   ],
   "source": [
    "y0_output_vals"
   ]
  },
  {
   "cell_type": "code",
   "execution_count": 9,
   "metadata": {},
   "outputs": [
    {
     "data": {
      "text/plain": [
       "array([[ 1., -1., -1.],\n",
       "       [ 1., -1., -1.],\n",
       "       [ 1., -1., -1.]], dtype=float32)"
      ]
     },
     "execution_count": 9,
     "metadata": {},
     "output_type": "execute_result"
    }
   ],
   "source": [
    "y1_output_vals"
   ]
  },
  {
   "cell_type": "code",
   "execution_count": null,
   "metadata": {},
   "outputs": [],
   "source": []
  }
 ],
 "metadata": {
  "kernelspec": {
   "display_name": "Python 3",
   "language": "python",
   "name": "python3"
  },
  "language_info": {
   "codemirror_mode": {
    "name": "ipython",
    "version": 3
   },
   "file_extension": ".py",
   "mimetype": "text/x-python",
   "name": "python",
   "nbconvert_exporter": "python",
   "pygments_lexer": "ipython3",
   "version": "3.6.6"
  }
 },
 "nbformat": 4,
 "nbformat_minor": 2
}
