{
 "cells": [
  {
   "cell_type": "markdown",
   "metadata": {},
   "source": [
    "# Regression Exercise \n",
    "\n",
    "California Housing Data\n",
    "\n",
    "This data set contains information about all the block groups in California from the 1990 Census. In this sample a block group on average includes 1425.5 individuals living in a geographically compact area. \n",
    "\n",
    "The task is to aproximate the median house value of each block from the values of the rest of the variables. \n",
    "\n",
    " It has been obtained from the LIACC repository. The original page where the data set can be found is: http://www.liaad.up.pt/~ltorgo/Regression/DataSets.html.\n",
    " "
   ]
  },
  {
   "cell_type": "markdown",
   "metadata": {
    "collapsed": true
   },
   "source": [
    "The Features:\n",
    " \n",
    "* housingMedianAge: continuous. \n",
    "* totalRooms: continuous. \n",
    "* totalBedrooms: continuous. \n",
    "* population: continuous. \n",
    "* households: continuous. \n",
    "* medianIncome: continuous. \n",
    "* medianHouseValue: continuous. "
   ]
  },
  {
   "cell_type": "markdown",
   "metadata": {},
   "source": [
    "## The Data"
   ]
  },
  {
   "cell_type": "markdown",
   "metadata": {},
   "source": [
    "** Import the cal_housing_clean.csv file with pandas. **"
   ]
  },
  {
   "cell_type": "code",
   "execution_count": 1,
   "metadata": {},
   "outputs": [
    {
     "name": "stderr",
     "output_type": "stream",
     "text": [
      "/Users/johnleonard/anaconda3/lib/python3.6/site-packages/h5py/__init__.py:36: FutureWarning: Conversion of the second argument of issubdtype from `float` to `np.floating` is deprecated. In future, it will be treated as `np.float64 == np.dtype(float).type`.\n",
      "  from ._conv import register_converters as _register_converters\n"
     ]
    },
    {
     "data": {
      "text/html": [
       "<div>\n",
       "<style scoped>\n",
       "    .dataframe tbody tr th:only-of-type {\n",
       "        vertical-align: middle;\n",
       "    }\n",
       "\n",
       "    .dataframe tbody tr th {\n",
       "        vertical-align: top;\n",
       "    }\n",
       "\n",
       "    .dataframe thead th {\n",
       "        text-align: right;\n",
       "    }\n",
       "</style>\n",
       "<table border=\"1\" class=\"dataframe\">\n",
       "  <thead>\n",
       "    <tr style=\"text-align: right;\">\n",
       "      <th></th>\n",
       "      <th>0</th>\n",
       "    </tr>\n",
       "  </thead>\n",
       "  <tbody>\n",
       "    <tr>\n",
       "      <th>0</th>\n",
       "      <td>housingMedianAge</td>\n",
       "    </tr>\n",
       "    <tr>\n",
       "      <th>1</th>\n",
       "      <td>totalRooms</td>\n",
       "    </tr>\n",
       "    <tr>\n",
       "      <th>2</th>\n",
       "      <td>totalBedrooms</td>\n",
       "    </tr>\n",
       "    <tr>\n",
       "      <th>3</th>\n",
       "      <td>population</td>\n",
       "    </tr>\n",
       "    <tr>\n",
       "      <th>4</th>\n",
       "      <td>households</td>\n",
       "    </tr>\n",
       "    <tr>\n",
       "      <th>5</th>\n",
       "      <td>medianIncome</td>\n",
       "    </tr>\n",
       "    <tr>\n",
       "      <th>6</th>\n",
       "      <td>medianHouseValue</td>\n",
       "    </tr>\n",
       "  </tbody>\n",
       "</table>\n",
       "</div>"
      ],
      "text/plain": [
       "                  0\n",
       "0  housingMedianAge\n",
       "1        totalRooms\n",
       "2     totalBedrooms\n",
       "3        population\n",
       "4        households\n",
       "5      medianIncome\n",
       "6  medianHouseValue"
      ]
     },
     "metadata": {},
     "output_type": "display_data"
    },
    {
     "data": {
      "text/html": [
       "<div>\n",
       "<style scoped>\n",
       "    .dataframe tbody tr th:only-of-type {\n",
       "        vertical-align: middle;\n",
       "    }\n",
       "\n",
       "    .dataframe tbody tr th {\n",
       "        vertical-align: top;\n",
       "    }\n",
       "\n",
       "    .dataframe thead th {\n",
       "        text-align: right;\n",
       "    }\n",
       "</style>\n",
       "<table border=\"1\" class=\"dataframe\">\n",
       "  <thead>\n",
       "    <tr style=\"text-align: right;\">\n",
       "      <th></th>\n",
       "      <th>housingMedianAge</th>\n",
       "      <th>totalRooms</th>\n",
       "      <th>totalBedrooms</th>\n",
       "      <th>population</th>\n",
       "      <th>households</th>\n",
       "      <th>medianIncome</th>\n",
       "      <th>medianHouseValue</th>\n",
       "    </tr>\n",
       "  </thead>\n",
       "  <tbody>\n",
       "    <tr>\n",
       "      <th>count</th>\n",
       "      <td>20640.000000</td>\n",
       "      <td>20640.000000</td>\n",
       "      <td>20640.000000</td>\n",
       "      <td>20640.000000</td>\n",
       "      <td>20640.000000</td>\n",
       "      <td>20640.000000</td>\n",
       "      <td>20640.000000</td>\n",
       "    </tr>\n",
       "    <tr>\n",
       "      <th>mean</th>\n",
       "      <td>28.639486</td>\n",
       "      <td>2635.763081</td>\n",
       "      <td>537.898014</td>\n",
       "      <td>1425.476744</td>\n",
       "      <td>499.539680</td>\n",
       "      <td>3.870671</td>\n",
       "      <td>206855.816909</td>\n",
       "    </tr>\n",
       "    <tr>\n",
       "      <th>std</th>\n",
       "      <td>12.585558</td>\n",
       "      <td>2181.615252</td>\n",
       "      <td>421.247906</td>\n",
       "      <td>1132.462122</td>\n",
       "      <td>382.329753</td>\n",
       "      <td>1.899822</td>\n",
       "      <td>115395.615874</td>\n",
       "    </tr>\n",
       "    <tr>\n",
       "      <th>min</th>\n",
       "      <td>1.000000</td>\n",
       "      <td>2.000000</td>\n",
       "      <td>1.000000</td>\n",
       "      <td>3.000000</td>\n",
       "      <td>1.000000</td>\n",
       "      <td>0.499900</td>\n",
       "      <td>14999.000000</td>\n",
       "    </tr>\n",
       "    <tr>\n",
       "      <th>25%</th>\n",
       "      <td>18.000000</td>\n",
       "      <td>1447.750000</td>\n",
       "      <td>295.000000</td>\n",
       "      <td>787.000000</td>\n",
       "      <td>280.000000</td>\n",
       "      <td>2.563400</td>\n",
       "      <td>119600.000000</td>\n",
       "    </tr>\n",
       "    <tr>\n",
       "      <th>50%</th>\n",
       "      <td>29.000000</td>\n",
       "      <td>2127.000000</td>\n",
       "      <td>435.000000</td>\n",
       "      <td>1166.000000</td>\n",
       "      <td>409.000000</td>\n",
       "      <td>3.534800</td>\n",
       "      <td>179700.000000</td>\n",
       "    </tr>\n",
       "    <tr>\n",
       "      <th>75%</th>\n",
       "      <td>37.000000</td>\n",
       "      <td>3148.000000</td>\n",
       "      <td>647.000000</td>\n",
       "      <td>1725.000000</td>\n",
       "      <td>605.000000</td>\n",
       "      <td>4.743250</td>\n",
       "      <td>264725.000000</td>\n",
       "    </tr>\n",
       "    <tr>\n",
       "      <th>max</th>\n",
       "      <td>52.000000</td>\n",
       "      <td>39320.000000</td>\n",
       "      <td>6445.000000</td>\n",
       "      <td>35682.000000</td>\n",
       "      <td>6082.000000</td>\n",
       "      <td>15.000100</td>\n",
       "      <td>500001.000000</td>\n",
       "    </tr>\n",
       "  </tbody>\n",
       "</table>\n",
       "</div>"
      ],
      "text/plain": [
       "       housingMedianAge    totalRooms  totalBedrooms    population  \\\n",
       "count      20640.000000  20640.000000   20640.000000  20640.000000   \n",
       "mean          28.639486   2635.763081     537.898014   1425.476744   \n",
       "std           12.585558   2181.615252     421.247906   1132.462122   \n",
       "min            1.000000      2.000000       1.000000      3.000000   \n",
       "25%           18.000000   1447.750000     295.000000    787.000000   \n",
       "50%           29.000000   2127.000000     435.000000   1166.000000   \n",
       "75%           37.000000   3148.000000     647.000000   1725.000000   \n",
       "max           52.000000  39320.000000    6445.000000  35682.000000   \n",
       "\n",
       "         households  medianIncome  medianHouseValue  \n",
       "count  20640.000000  20640.000000      20640.000000  \n",
       "mean     499.539680      3.870671     206855.816909  \n",
       "std      382.329753      1.899822     115395.615874  \n",
       "min        1.000000      0.499900      14999.000000  \n",
       "25%      280.000000      2.563400     119600.000000  \n",
       "50%      409.000000      3.534800     179700.000000  \n",
       "75%      605.000000      4.743250     264725.000000  \n",
       "max     6082.000000     15.000100     500001.000000  "
      ]
     },
     "metadata": {},
     "output_type": "display_data"
    }
   ],
   "source": [
    "import pandas as pd\n",
    "import numpy as np\n",
    "import tensorflow as tf\n",
    "\n",
    "df = pd.read_csv('cal_housing_clean.csv')\n",
    "\n",
    "display(pd.DataFrame(df.columns))\n",
    "\n",
    "display(df.describe())"
   ]
  },
  {
   "cell_type": "markdown",
   "metadata": {},
   "source": [
    "** Separate it into a training (70%) and testing set(30%).**"
   ]
  },
  {
   "cell_type": "code",
   "execution_count": 2,
   "metadata": {},
   "outputs": [
    {
     "name": "stdout",
     "output_type": "stream",
     "text": [
      "X_train.shape[0]: 13828\n",
      "X_test.shape[0]: 6812\n"
     ]
    }
   ],
   "source": [
    "from sklearn.model_selection import train_test_split\n",
    "\n",
    "X = df.drop(columns = ['medianHouseValue'])\n",
    "y = df[['medianHouseValue']]\n",
    "X_train, X_test, y_train, y_test = train_test_split(X, y, test_size=0.33, random_state=42)\n",
    "\n",
    "print('X_train.shape[0]:',X_train.shape[0])\n",
    "print('X_test.shape[0]:',X_test.shape[0])"
   ]
  },
  {
   "cell_type": "markdown",
   "metadata": {},
   "source": [
    "### Scale the Feature Data\n",
    "\n",
    "** Use sklearn preprocessing to create a MinMaxScaler for the feature data. Fit this scaler only to the training data. Then use it to transform X_test and X_train. Then use the scaled X_test and X_train along with pd.Dataframe to re-create two dataframes of scaled data.**"
   ]
  },
  {
   "cell_type": "code",
   "execution_count": 3,
   "metadata": {},
   "outputs": [],
   "source": [
    "from sklearn.preprocessing import MinMaxScaler\n",
    "\n",
    "x_scaler = MinMaxScaler().fit(X_train)\n",
    "y_scaler = MinMaxScaler().fit(y_train)\n",
    "\n",
    "X_train = pd.DataFrame(x_scaler.transform(X_train),columns=list(X.columns), index=X_train.index)\n",
    "X_test = pd.DataFrame(x_scaler.transform(X_test),columns=list(X.columns), index=X_test.index)\n",
    "\n",
    "y_train = pd.DataFrame(y_scaler.transform(y_train),columns=list(y.columns),index=y_train.index)\n",
    "y_test = pd.DataFrame(y_scaler.transform(y_test),columns=list(y.columns),index=y_test.index)"
   ]
  },
  {
   "cell_type": "markdown",
   "metadata": {},
   "source": [
    "### Create Feature Columns\n",
    "\n",
    "** Create the necessary tf.feature_column objects for the estimator. They should all be trated as continuous numeric_columns. **"
   ]
  },
  {
   "cell_type": "code",
   "execution_count": 4,
   "metadata": {},
   "outputs": [
    {
     "data": {
      "text/plain": [
       "[_NumericColumn(key='housingMedianAge', shape=(1,), default_value=None, dtype=tf.float32, normalizer_fn=None),\n",
       " _NumericColumn(key='totalRooms', shape=(1,), default_value=None, dtype=tf.float32, normalizer_fn=None),\n",
       " _NumericColumn(key='totalBedrooms', shape=(1,), default_value=None, dtype=tf.float32, normalizer_fn=None),\n",
       " _NumericColumn(key='population', shape=(1,), default_value=None, dtype=tf.float32, normalizer_fn=None),\n",
       " _NumericColumn(key='households', shape=(1,), default_value=None, dtype=tf.float32, normalizer_fn=None),\n",
       " _NumericColumn(key='medianIncome', shape=(1,), default_value=None, dtype=tf.float32, normalizer_fn=None)]"
      ]
     },
     "metadata": {},
     "output_type": "display_data"
    }
   ],
   "source": [
    "feature_column_list = []\n",
    "\n",
    "for key in list(X_train.columns):\n",
    "    feature_column_list.append(tf.feature_column.numeric_column(key))\n",
    "    \n",
    "display(feature_column_list)"
   ]
  },
  {
   "cell_type": "markdown",
   "metadata": {},
   "source": [
    "** Create the input function for the estimator object. (play around with batch_size and num_epochs)**"
   ]
  },
  {
   "cell_type": "code",
   "execution_count": 5,
   "metadata": {},
   "outputs": [
    {
     "data": {
      "text/plain": [
       "<function tensorflow.python.estimator.inputs.pandas_io.pandas_input_fn.<locals>.input_fn()>"
      ]
     },
     "execution_count": 5,
     "metadata": {},
     "output_type": "execute_result"
    }
   ],
   "source": [
    "input_fn_train = tf.estimator.inputs.pandas_input_fn(x = X_train,\n",
    "                                                     y = y_train.squeeze(), #squezze df into series\n",
    "                                                     batch_size=128, \n",
    "                                                     num_epochs=1000,\n",
    "                                                     shuffle=True)\n",
    "input_fn_train"
   ]
  },
  {
   "cell_type": "markdown",
   "metadata": {},
   "source": [
    "** Create the estimator model. Use a DNNRegressor. Play around with the hidden units! **"
   ]
  },
  {
   "cell_type": "code",
   "execution_count": 6,
   "metadata": {},
   "outputs": [
    {
     "name": "stdout",
     "output_type": "stream",
     "text": [
      "INFO:tensorflow:Using default config.\n",
      "WARNING:tensorflow:Using temporary folder as model directory: /var/folders/dk/jmp2jdj96xd00z6w7mbmgvh40000gn/T/tmpm_ak477i\n",
      "INFO:tensorflow:Using config: {'_model_dir': '/var/folders/dk/jmp2jdj96xd00z6w7mbmgvh40000gn/T/tmpm_ak477i', '_tf_random_seed': None, '_save_summary_steps': 100, '_save_checkpoints_steps': None, '_save_checkpoints_secs': 600, '_session_config': allow_soft_placement: true\n",
      "graph_options {\n",
      "  rewrite_options {\n",
      "    meta_optimizer_iterations: ONE\n",
      "  }\n",
      "}\n",
      ", '_keep_checkpoint_max': 5, '_keep_checkpoint_every_n_hours': 10000, '_log_step_count_steps': 100, '_train_distribute': None, '_device_fn': None, '_protocol': None, '_eval_distribute': None, '_experimental_distribute': None, '_service': None, '_cluster_spec': <tensorflow.python.training.server_lib.ClusterSpec object at 0xb264823c8>, '_task_type': 'worker', '_task_id': 0, '_global_id_in_cluster': 0, '_master': '', '_evaluation_master': '', '_is_chief': True, '_num_ps_replicas': 0, '_num_worker_replicas': 1}\n"
     ]
    }
   ],
   "source": [
    "model = tf.estimator.DNNRegressor(hidden_units=[10,10,10],\n",
    "                                  feature_columns = feature_column_list)"
   ]
  },
  {
   "cell_type": "markdown",
   "metadata": {},
   "source": [
    "##### ** Train the model for ~1,000 steps. (Later come back to this and train it for more and check for improvement) **"
   ]
  },
  {
   "cell_type": "code",
   "execution_count": 7,
   "metadata": {
    "scrolled": false
   },
   "outputs": [
    {
     "name": "stdout",
     "output_type": "stream",
     "text": [
      "WARNING:tensorflow:From /Users/johnleonard/anaconda3/lib/python3.6/site-packages/tensorflow/python/estimator/inputs/queues/feeding_queue_runner.py:62: QueueRunner.__init__ (from tensorflow.python.training.queue_runner_impl) is deprecated and will be removed in a future version.\n",
      "Instructions for updating:\n",
      "To construct input pipelines, use the `tf.data` module.\n",
      "WARNING:tensorflow:From /Users/johnleonard/anaconda3/lib/python3.6/site-packages/tensorflow/python/estimator/inputs/queues/feeding_functions.py:500: add_queue_runner (from tensorflow.python.training.queue_runner_impl) is deprecated and will be removed in a future version.\n",
      "Instructions for updating:\n",
      "To construct input pipelines, use the `tf.data` module.\n",
      "INFO:tensorflow:Calling model_fn.\n",
      "INFO:tensorflow:Done calling model_fn.\n",
      "INFO:tensorflow:Create CheckpointSaverHook.\n",
      "INFO:tensorflow:Graph was finalized.\n",
      "INFO:tensorflow:Running local_init_op.\n",
      "INFO:tensorflow:Done running local_init_op.\n",
      "WARNING:tensorflow:From /Users/johnleonard/anaconda3/lib/python3.6/site-packages/tensorflow/python/training/monitored_session.py:804: start_queue_runners (from tensorflow.python.training.queue_runner_impl) is deprecated and will be removed in a future version.\n",
      "Instructions for updating:\n",
      "To construct input pipelines, use the `tf.data` module.\n",
      "INFO:tensorflow:Saving checkpoints for 0 into /var/folders/dk/jmp2jdj96xd00z6w7mbmgvh40000gn/T/tmpm_ak477i/model.ckpt.\n",
      "INFO:tensorflow:loss = 35.413, step = 1\n",
      "INFO:tensorflow:global_step/sec: 426.203\n",
      "INFO:tensorflow:loss = 2.4868472, step = 101 (0.237 sec)\n",
      "INFO:tensorflow:global_step/sec: 577.734\n",
      "INFO:tensorflow:loss = 3.224193, step = 201 (0.172 sec)\n",
      "INFO:tensorflow:global_step/sec: 597.464\n",
      "INFO:tensorflow:loss = 2.8713849, step = 301 (0.167 sec)\n",
      "INFO:tensorflow:global_step/sec: 611.259\n",
      "INFO:tensorflow:loss = 2.7907271, step = 401 (0.164 sec)\n",
      "INFO:tensorflow:global_step/sec: 555.118\n",
      "INFO:tensorflow:loss = 2.9330301, step = 501 (0.180 sec)\n",
      "INFO:tensorflow:global_step/sec: 598.616\n",
      "INFO:tensorflow:loss = 1.9477823, step = 601 (0.167 sec)\n",
      "INFO:tensorflow:global_step/sec: 639.19\n",
      "INFO:tensorflow:loss = 1.9414771, step = 701 (0.156 sec)\n",
      "INFO:tensorflow:global_step/sec: 536.953\n",
      "INFO:tensorflow:loss = 3.036026, step = 801 (0.189 sec)\n",
      "INFO:tensorflow:global_step/sec: 553.361\n",
      "INFO:tensorflow:loss = 2.5930328, step = 901 (0.179 sec)\n",
      "INFO:tensorflow:global_step/sec: 566.203\n",
      "INFO:tensorflow:loss = 2.6878424, step = 1001 (0.178 sec)\n",
      "INFO:tensorflow:global_step/sec: 532.845\n",
      "INFO:tensorflow:loss = 2.9581273, step = 1101 (0.187 sec)\n",
      "INFO:tensorflow:global_step/sec: 560.978\n",
      "INFO:tensorflow:loss = 2.4723105, step = 1201 (0.178 sec)\n",
      "INFO:tensorflow:global_step/sec: 561.624\n",
      "INFO:tensorflow:loss = 2.8238468, step = 1301 (0.177 sec)\n",
      "INFO:tensorflow:global_step/sec: 553.489\n",
      "INFO:tensorflow:loss = 2.7145047, step = 1401 (0.182 sec)\n",
      "INFO:tensorflow:global_step/sec: 582.31\n",
      "INFO:tensorflow:loss = 3.2465334, step = 1501 (0.172 sec)\n",
      "INFO:tensorflow:global_step/sec: 494.103\n",
      "INFO:tensorflow:loss = 3.4523954, step = 1601 (0.201 sec)\n",
      "INFO:tensorflow:global_step/sec: 550.215\n",
      "INFO:tensorflow:loss = 3.4750924, step = 1701 (0.183 sec)\n",
      "INFO:tensorflow:global_step/sec: 432.332\n",
      "INFO:tensorflow:loss = 2.793332, step = 1801 (0.232 sec)\n",
      "INFO:tensorflow:global_step/sec: 501.668\n",
      "INFO:tensorflow:loss = 2.5939834, step = 1901 (0.198 sec)\n",
      "INFO:tensorflow:global_step/sec: 490.691\n",
      "INFO:tensorflow:loss = 2.3812916, step = 2001 (0.205 sec)\n",
      "INFO:tensorflow:global_step/sec: 494.167\n",
      "INFO:tensorflow:loss = 2.2523775, step = 2101 (0.201 sec)\n",
      "INFO:tensorflow:global_step/sec: 537.204\n",
      "INFO:tensorflow:loss = 2.5375109, step = 2201 (0.186 sec)\n",
      "INFO:tensorflow:global_step/sec: 568.641\n",
      "INFO:tensorflow:loss = 2.472845, step = 2301 (0.177 sec)\n",
      "INFO:tensorflow:global_step/sec: 556.436\n",
      "INFO:tensorflow:loss = 2.8367305, step = 2401 (0.178 sec)\n",
      "INFO:tensorflow:global_step/sec: 595.334\n",
      "INFO:tensorflow:loss = 3.3703952, step = 2501 (0.169 sec)\n",
      "INFO:tensorflow:global_step/sec: 636.505\n",
      "INFO:tensorflow:loss = 2.4568777, step = 2601 (0.157 sec)\n",
      "INFO:tensorflow:global_step/sec: 625.199\n",
      "INFO:tensorflow:loss = 2.5555885, step = 2701 (0.160 sec)\n",
      "INFO:tensorflow:global_step/sec: 622.968\n",
      "INFO:tensorflow:loss = 3.636981, step = 2801 (0.160 sec)\n",
      "INFO:tensorflow:global_step/sec: 626.237\n",
      "INFO:tensorflow:loss = 3.3642855, step = 2901 (0.160 sec)\n",
      "INFO:tensorflow:global_step/sec: 644.151\n",
      "INFO:tensorflow:loss = 2.4828038, step = 3001 (0.155 sec)\n",
      "INFO:tensorflow:global_step/sec: 635.814\n",
      "INFO:tensorflow:loss = 3.6855075, step = 3101 (0.157 sec)\n",
      "INFO:tensorflow:global_step/sec: 626.825\n",
      "INFO:tensorflow:loss = 2.5854127, step = 3201 (0.159 sec)\n",
      "INFO:tensorflow:global_step/sec: 632.324\n",
      "INFO:tensorflow:loss = 1.6493754, step = 3301 (0.158 sec)\n",
      "INFO:tensorflow:global_step/sec: 627.089\n",
      "INFO:tensorflow:loss = 2.2130513, step = 3401 (0.160 sec)\n",
      "INFO:tensorflow:global_step/sec: 618.375\n",
      "INFO:tensorflow:loss = 2.6802132, step = 3501 (0.161 sec)\n",
      "INFO:tensorflow:global_step/sec: 596.466\n",
      "INFO:tensorflow:loss = 2.650189, step = 3601 (0.167 sec)\n",
      "INFO:tensorflow:global_step/sec: 617.696\n",
      "INFO:tensorflow:loss = 1.9485912, step = 3701 (0.164 sec)\n",
      "INFO:tensorflow:global_step/sec: 574.72\n",
      "INFO:tensorflow:loss = 1.7648425, step = 3801 (0.173 sec)\n",
      "INFO:tensorflow:global_step/sec: 599.186\n",
      "INFO:tensorflow:loss = 3.266428, step = 3901 (0.167 sec)\n",
      "INFO:tensorflow:global_step/sec: 620.959\n",
      "INFO:tensorflow:loss = 2.2110922, step = 4001 (0.161 sec)\n",
      "INFO:tensorflow:global_step/sec: 639.419\n",
      "INFO:tensorflow:loss = 2.8875206, step = 4101 (0.157 sec)\n",
      "INFO:tensorflow:global_step/sec: 645.995\n",
      "INFO:tensorflow:loss = 2.1152897, step = 4201 (0.155 sec)\n",
      "INFO:tensorflow:global_step/sec: 539.573\n",
      "INFO:tensorflow:loss = 3.1825113, step = 4301 (0.186 sec)\n",
      "INFO:tensorflow:global_step/sec: 529.72\n",
      "INFO:tensorflow:loss = 2.1830113, step = 4401 (0.190 sec)\n",
      "INFO:tensorflow:global_step/sec: 578.991\n",
      "INFO:tensorflow:loss = 2.3429353, step = 4501 (0.172 sec)\n",
      "INFO:tensorflow:global_step/sec: 640.222\n",
      "INFO:tensorflow:loss = 1.7438751, step = 4601 (0.156 sec)\n",
      "INFO:tensorflow:global_step/sec: 617.123\n",
      "INFO:tensorflow:loss = 2.861117, step = 4701 (0.162 sec)\n",
      "INFO:tensorflow:global_step/sec: 640.144\n",
      "INFO:tensorflow:loss = 2.1995182, step = 4801 (0.156 sec)\n",
      "INFO:tensorflow:global_step/sec: 630.999\n",
      "INFO:tensorflow:loss = 2.1324897, step = 4901 (0.158 sec)\n",
      "INFO:tensorflow:global_step/sec: 631.174\n",
      "INFO:tensorflow:loss = 1.5105441, step = 5001 (0.159 sec)\n",
      "INFO:tensorflow:global_step/sec: 552.339\n",
      "INFO:tensorflow:loss = 2.608619, step = 5101 (0.181 sec)\n",
      "INFO:tensorflow:global_step/sec: 551.566\n",
      "INFO:tensorflow:loss = 3.1131225, step = 5201 (0.181 sec)\n",
      "INFO:tensorflow:global_step/sec: 646.25\n",
      "INFO:tensorflow:loss = 2.6978679, step = 5301 (0.155 sec)\n",
      "INFO:tensorflow:global_step/sec: 549.514\n",
      "INFO:tensorflow:loss = 2.0615053, step = 5401 (0.181 sec)\n",
      "INFO:tensorflow:global_step/sec: 622.095\n",
      "INFO:tensorflow:loss = 3.6765156, step = 5501 (0.161 sec)\n",
      "INFO:tensorflow:global_step/sec: 536.374\n",
      "INFO:tensorflow:loss = 3.6296155, step = 5601 (0.187 sec)\n",
      "INFO:tensorflow:global_step/sec: 531.641\n",
      "INFO:tensorflow:loss = 3.0559602, step = 5701 (0.188 sec)\n",
      "INFO:tensorflow:global_step/sec: 613.569\n",
      "INFO:tensorflow:loss = 3.0134816, step = 5801 (0.162 sec)\n",
      "INFO:tensorflow:global_step/sec: 626.885\n",
      "INFO:tensorflow:loss = 2.2240705, step = 5901 (0.160 sec)\n",
      "INFO:tensorflow:global_step/sec: 616.181\n",
      "INFO:tensorflow:loss = 1.7364671, step = 6001 (0.162 sec)\n",
      "INFO:tensorflow:global_step/sec: 527.317\n",
      "INFO:tensorflow:loss = 2.107185, step = 6101 (0.190 sec)\n",
      "INFO:tensorflow:global_step/sec: 625.427\n",
      "INFO:tensorflow:loss = 2.0674863, step = 6201 (0.160 sec)\n",
      "INFO:tensorflow:global_step/sec: 587.248\n",
      "INFO:tensorflow:loss = 2.6127245, step = 6301 (0.170 sec)\n",
      "INFO:tensorflow:global_step/sec: 610.027\n",
      "INFO:tensorflow:loss = 2.2858543, step = 6401 (0.164 sec)\n",
      "INFO:tensorflow:global_step/sec: 603.136\n",
      "INFO:tensorflow:loss = 2.8499103, step = 6501 (0.167 sec)\n",
      "INFO:tensorflow:global_step/sec: 606.623\n",
      "INFO:tensorflow:loss = 2.527331, step = 6601 (0.164 sec)\n",
      "INFO:tensorflow:global_step/sec: 646.995\n",
      "INFO:tensorflow:loss = 3.6742792, step = 6701 (0.154 sec)\n",
      "INFO:tensorflow:global_step/sec: 623.737\n",
      "INFO:tensorflow:loss = 1.5736499, step = 6801 (0.160 sec)\n",
      "INFO:tensorflow:global_step/sec: 629.722\n"
     ]
    },
    {
     "name": "stdout",
     "output_type": "stream",
     "text": [
      "INFO:tensorflow:loss = 2.6334558, step = 6901 (0.159 sec)\n",
      "INFO:tensorflow:global_step/sec: 632.763\n",
      "INFO:tensorflow:loss = 2.1637077, step = 7001 (0.158 sec)\n",
      "INFO:tensorflow:global_step/sec: 640.271\n",
      "INFO:tensorflow:loss = 2.2981224, step = 7101 (0.156 sec)\n",
      "INFO:tensorflow:global_step/sec: 623.694\n",
      "INFO:tensorflow:loss = 2.7231216, step = 7201 (0.161 sec)\n",
      "INFO:tensorflow:global_step/sec: 642.124\n",
      "INFO:tensorflow:loss = 1.8218164, step = 7301 (0.155 sec)\n",
      "INFO:tensorflow:global_step/sec: 634.712\n",
      "INFO:tensorflow:loss = 3.0290256, step = 7401 (0.158 sec)\n",
      "INFO:tensorflow:global_step/sec: 634.36\n",
      "INFO:tensorflow:loss = 3.6537774, step = 7501 (0.158 sec)\n",
      "INFO:tensorflow:global_step/sec: 638.285\n",
      "INFO:tensorflow:loss = 1.860919, step = 7601 (0.157 sec)\n",
      "INFO:tensorflow:global_step/sec: 637.418\n",
      "INFO:tensorflow:loss = 2.3625946, step = 7701 (0.156 sec)\n",
      "INFO:tensorflow:global_step/sec: 637.555\n",
      "INFO:tensorflow:loss = 2.1178555, step = 7801 (0.157 sec)\n",
      "INFO:tensorflow:global_step/sec: 638.693\n",
      "INFO:tensorflow:loss = 2.228646, step = 7901 (0.157 sec)\n",
      "INFO:tensorflow:global_step/sec: 655.325\n",
      "INFO:tensorflow:loss = 2.6294546, step = 8001 (0.152 sec)\n",
      "INFO:tensorflow:global_step/sec: 633.866\n",
      "INFO:tensorflow:loss = 2.4821358, step = 8101 (0.158 sec)\n",
      "INFO:tensorflow:global_step/sec: 635.655\n",
      "INFO:tensorflow:loss = 2.226678, step = 8201 (0.157 sec)\n",
      "INFO:tensorflow:global_step/sec: 652.078\n",
      "INFO:tensorflow:loss = 2.5674424, step = 8301 (0.153 sec)\n",
      "INFO:tensorflow:global_step/sec: 641.395\n",
      "INFO:tensorflow:loss = 2.9663105, step = 8401 (0.156 sec)\n",
      "INFO:tensorflow:global_step/sec: 631.836\n",
      "INFO:tensorflow:loss = 1.8314312, step = 8501 (0.158 sec)\n",
      "INFO:tensorflow:global_step/sec: 635.619\n",
      "INFO:tensorflow:loss = 2.4995842, step = 8601 (0.157 sec)\n",
      "INFO:tensorflow:global_step/sec: 645.949\n",
      "INFO:tensorflow:loss = 2.167006, step = 8701 (0.155 sec)\n",
      "INFO:tensorflow:global_step/sec: 631.524\n",
      "INFO:tensorflow:loss = 2.2296062, step = 8801 (0.158 sec)\n",
      "INFO:tensorflow:global_step/sec: 645.386\n",
      "INFO:tensorflow:loss = 2.9407926, step = 8901 (0.155 sec)\n",
      "INFO:tensorflow:global_step/sec: 640.895\n",
      "INFO:tensorflow:loss = 2.699015, step = 9001 (0.156 sec)\n",
      "INFO:tensorflow:global_step/sec: 642.467\n",
      "INFO:tensorflow:loss = 2.157064, step = 9101 (0.156 sec)\n",
      "INFO:tensorflow:global_step/sec: 631.015\n",
      "INFO:tensorflow:loss = 2.4875755, step = 9201 (0.159 sec)\n",
      "INFO:tensorflow:global_step/sec: 650.665\n",
      "INFO:tensorflow:loss = 2.9974165, step = 9301 (0.154 sec)\n",
      "INFO:tensorflow:global_step/sec: 644.209\n",
      "INFO:tensorflow:loss = 2.0725374, step = 9401 (0.155 sec)\n",
      "INFO:tensorflow:global_step/sec: 630.999\n",
      "INFO:tensorflow:loss = 3.321169, step = 9501 (0.159 sec)\n",
      "INFO:tensorflow:global_step/sec: 641.309\n",
      "INFO:tensorflow:loss = 1.9642166, step = 9601 (0.156 sec)\n",
      "INFO:tensorflow:global_step/sec: 638.663\n",
      "INFO:tensorflow:loss = 1.9881449, step = 9701 (0.157 sec)\n",
      "INFO:tensorflow:global_step/sec: 607.295\n",
      "INFO:tensorflow:loss = 2.4172935, step = 9801 (0.165 sec)\n",
      "INFO:tensorflow:global_step/sec: 635.202\n",
      "INFO:tensorflow:loss = 2.0635366, step = 9901 (0.157 sec)\n",
      "INFO:tensorflow:Saving checkpoints for 10000 into /var/folders/dk/jmp2jdj96xd00z6w7mbmgvh40000gn/T/tmpm_ak477i/model.ckpt.\n",
      "INFO:tensorflow:Loss for final step: 1.7520326.\n"
     ]
    },
    {
     "data": {
      "text/plain": [
       "<tensorflow.python.estimator.canned.dnn.DNNRegressor at 0xb26482668>"
      ]
     },
     "execution_count": 7,
     "metadata": {},
     "output_type": "execute_result"
    }
   ],
   "source": [
    "model.train(input_fn=input_fn_train, steps = 10000)"
   ]
  },
  {
   "cell_type": "markdown",
   "metadata": {},
   "source": [
    "** Create a prediction input function and then use the .predict method off your estimator model to create a list or predictions on your test data. **"
   ]
  },
  {
   "cell_type": "code",
   "execution_count": 8,
   "metadata": {},
   "outputs": [],
   "source": [
    "def input_fn_predict(X_test_train):\n",
    "\n",
    "    input_fn = tf.estimator.inputs.pandas_input_fn(x = X_test_train,\n",
    "                                                    batch_size=128,\n",
    "                                                    num_epochs=1, shuffle = False)\n",
    "    return input_fn\n",
    "\n",
    "def predict(X_test_train):\n",
    "    predictions = [pred['predictions'][0] for pred in list(model.predict(input_fn=input_fn_predict(X_test_train)))]\n",
    "    predictions = np.array(predictions).reshape(-1,1)\n",
    "    return predictions"
   ]
  },
  {
   "cell_type": "code",
   "execution_count": 9,
   "metadata": {},
   "outputs": [
    {
     "name": "stdout",
     "output_type": "stream",
     "text": [
      "INFO:tensorflow:Calling model_fn.\n",
      "INFO:tensorflow:Done calling model_fn.\n",
      "INFO:tensorflow:Graph was finalized.\n",
      "INFO:tensorflow:Restoring parameters from /var/folders/dk/jmp2jdj96xd00z6w7mbmgvh40000gn/T/tmpm_ak477i/model.ckpt-10000\n",
      "INFO:tensorflow:Running local_init_op.\n",
      "INFO:tensorflow:Done running local_init_op.\n",
      "INFO:tensorflow:Calling model_fn.\n",
      "INFO:tensorflow:Done calling model_fn.\n",
      "INFO:tensorflow:Graph was finalized.\n",
      "INFO:tensorflow:Restoring parameters from /var/folders/dk/jmp2jdj96xd00z6w7mbmgvh40000gn/T/tmpm_ak477i/model.ckpt-10000\n",
      "INFO:tensorflow:Running local_init_op.\n",
      "INFO:tensorflow:Done running local_init_op.\n"
     ]
    }
   ],
   "source": [
    "y_train_pred = predict(X_train)\n",
    "y_test_pred = predict(X_test)"
   ]
  },
  {
   "cell_type": "code",
   "execution_count": 14,
   "metadata": {},
   "outputs": [
    {
     "data": {
      "image/png": "[encoded data removed]",
      "text/plain": [
       "<Figure size 432x288 with 1 Axes>"
      ]
     },
     "metadata": {},
     "output_type": "display_data"
    }
   ],
   "source": [
    "import matplotlib.pyplot as plt\n",
    "\n",
    "plt.plot(y_train, y_train_pred,'bo')\n",
    "plt.plot(y_test, y_test_pred,'ro')\n",
    "plt.xlabel('y(true)')\n",
    "plt.ylabel('y(pred)')\n",
    "plt.show()"
   ]
  },
  {
   "cell_type": "code",
   "execution_count": 11,
   "metadata": {},
   "outputs": [
    {
     "name": "stdout",
     "output_type": "stream",
     "text": [
      "RMSE_train: 0.01886873257036307\n",
      "RMSE_test: 0.019653861467637146\n"
     ]
    }
   ],
   "source": [
    "from sklearn.metrics import mean_squared_error\n",
    "\n",
    "RMSE_train = mean_squared_error(y_train, y_train_pred)\n",
    "RMSE_test = mean_squared_error(y_test, y_test_pred)\n",
    "\n",
    "print('RMSE_train:',RMSE_train)\n",
    "print('RMSE_test:',RMSE_test)"
   ]
  },
  {
   "cell_type": "code",
   "execution_count": 16,
   "metadata": {},
   "outputs": [
    {
     "data": {
      "image/png": "[encoded data removed]",
      "text/plain": [
       "<Figure size 432x288 with 1 Axes>"
      ]
     },
     "metadata": {},
     "output_type": "display_data"
    }
   ],
   "source": [
    "#rescale and plot\n",
    "y_train_original = pd.DataFrame(y_scaler.inverse_transform(y_train),columns=y.columns,index=y_train.index)\n",
    "y_test_original = pd.DataFrame(y_scaler.inverse_transform(y_test),columns=y.columns,index=y_test.index)\n",
    "\n",
    "y_train_pred_inverse_scale = pd.DataFrame(y_scaler.inverse_transform(y_train_pred),columns=y.columns,index=y_train.index)\n",
    "y_test_pred_inverse_scale = pd.DataFrame(y_scaler.inverse_transform(y_test_pred),columns=y.columns,index=y_test.index)\n",
    "\n",
    "plt.plot(y_train_original, y_train_pred_inverse_scale ,'bo')\n",
    "plt.plot(y_test_original, y_test_pred_inverse_scale,'ro')\n",
    "plt.xlabel('y(true)')\n",
    "plt.ylabel('y(pred)')\n",
    "plt.show()"
   ]
  },
  {
   "cell_type": "markdown",
   "metadata": {},
   "source": [
    "** Calculate the RMSE. You should be able to get around 100,000 RMSE (remember that this is in the same units as the label.) Do this manually or use [sklearn.metrics](http://scikit-learn.org/stable/modules/generated/sklearn.metrics.mean_squared_error.html) **"
   ]
  },
  {
   "cell_type": "markdown",
   "metadata": {},
   "source": [
    "# Great Job!"
   ]
  }
 ],
 "metadata": {
  "kernelspec": {
   "display_name": "Python 3",
   "language": "python",
   "name": "python3"
  },
  "language_info": {
   "codemirror_mode": {
    "name": "ipython",
    "version": 3
   },
   "file_extension": ".py",
   "mimetype": "text/x-python",
   "name": "python",
   "nbconvert_exporter": "python",
   "pygments_lexer": "ipython3",
   "version": "3.6.8"
  },
  "toc": {
   "base_numbering": 1,
   "nav_menu": {},
   "number_sections": true,
   "sideBar": true,
   "skip_h1_title": false,
   "title_cell": "Table of Contents",
   "title_sidebar": "Contents",
   "toc_cell": false,
   "toc_position": {},
   "toc_section_display": true,
   "toc_window_display": false
  },
  "varInspector": {
   "cols": {
    "lenName": 16,
    "lenType": 16,
    "lenVar": 40
   },
   "kernels_config": {
    "python": {
     "delete_cmd_postfix": "",
     "delete_cmd_prefix": "del ",
     "library": "var_list.py",
     "varRefreshCmd": "print(var_dic_list())"
    },
    "r": {
     "delete_cmd_postfix": ") ",
     "delete_cmd_prefix": "rm(",
     "library": "var_list.r",
     "varRefreshCmd": "cat(var_dic_list()) "
    }
   },
   "types_to_exclude": [
    "module",
    "function",
    "builtin_function_or_method",
    "instance",
    "_Feature"
   ],
   "window_display": false
  }
 },
 "nbformat": 4,
 "nbformat_minor": 2
}
