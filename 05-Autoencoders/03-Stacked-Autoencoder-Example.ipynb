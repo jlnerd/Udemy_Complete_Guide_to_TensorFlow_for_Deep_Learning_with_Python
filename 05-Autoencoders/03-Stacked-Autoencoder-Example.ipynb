{
 "cells": [
  {
   "cell_type": "markdown",
   "metadata": {},
   "source": [
    "# Stacked Autoencoder"
   ]
  },
  {
   "cell_type": "code",
   "execution_count": 1,
   "metadata": {
    "ExecuteTime": {
     "end_time": "2019-03-25T04:10:21.494795Z",
     "start_time": "2019-03-25T04:10:21.182790Z"
    }
   },
   "outputs": [],
   "source": [
    "import numpy as np\n",
    "import matplotlib.pyplot as plt\n",
    "%matplotlib inline"
   ]
  },
  {
   "cell_type": "code",
   "execution_count": 2,
   "metadata": {
    "ExecuteTime": {
     "end_time": "2019-03-25T04:10:22.873068Z",
     "start_time": "2019-03-25T04:10:21.503873Z"
    }
   },
   "outputs": [
    {
     "name": "stderr",
     "output_type": "stream",
     "text": [
      "/Users/johnleonard/anaconda3/lib/python3.6/site-packages/h5py/__init__.py:36: FutureWarning: Conversion of the second argument of issubdtype from `float` to `np.floating` is deprecated. In future, it will be treated as `np.float64 == np.dtype(float).type`.\n",
      "  from ._conv import register_converters as _register_converters\n"
     ]
    }
   ],
   "source": [
    "import tensorflow as tf"
   ]
  },
  {
   "cell_type": "code",
   "execution_count": 3,
   "metadata": {
    "ExecuteTime": {
     "end_time": "2019-03-25T04:10:29.701947Z",
     "start_time": "2019-03-25T04:10:22.879071Z"
    }
   },
   "outputs": [],
   "source": [
    "from tensorflow.examples.tutorials.mnist import input_data"
   ]
  },
  {
   "cell_type": "code",
   "execution_count": 4,
   "metadata": {
    "ExecuteTime": {
     "end_time": "2019-03-25T04:10:30.416833Z",
     "start_time": "2019-03-25T04:10:29.709620Z"
    }
   },
   "outputs": [
    {
     "name": "stdout",
     "output_type": "stream",
     "text": [
      "WARNING:tensorflow:From <ipython-input-4-188b088e0975>:1: read_data_sets (from tensorflow.contrib.learn.python.learn.datasets.mnist) is deprecated and will be removed in a future version.\n",
      "Instructions for updating:\n",
      "Please use alternatives such as official/mnist/dataset.py from tensorflow/models.\n",
      "WARNING:tensorflow:From /Users/johnleonard/anaconda3/lib/python3.6/site-packages/tensorflow/contrib/learn/python/learn/datasets/mnist.py:260: maybe_download (from tensorflow.contrib.learn.python.learn.datasets.base) is deprecated and will be removed in a future version.\n",
      "Instructions for updating:\n",
      "Please write your own downloading logic.\n",
      "WARNING:tensorflow:From /Users/johnleonard/anaconda3/lib/python3.6/site-packages/tensorflow/contrib/learn/python/learn/datasets/mnist.py:262: extract_images (from tensorflow.contrib.learn.python.learn.datasets.mnist) is deprecated and will be removed in a future version.\n",
      "Instructions for updating:\n",
      "Please use tf.data to implement this functionality.\n",
      "Extracting ../03-Convolutional-Neural-Networks/MNIST_data/train-images-idx3-ubyte.gz\n",
      "WARNING:tensorflow:From /Users/johnleonard/anaconda3/lib/python3.6/site-packages/tensorflow/contrib/learn/python/learn/datasets/mnist.py:267: extract_labels (from tensorflow.contrib.learn.python.learn.datasets.mnist) is deprecated and will be removed in a future version.\n",
      "Instructions for updating:\n",
      "Please use tf.data to implement this functionality.\n",
      "Extracting ../03-Convolutional-Neural-Networks/MNIST_data/train-labels-idx1-ubyte.gz\n",
      "WARNING:tensorflow:From /Users/johnleonard/anaconda3/lib/python3.6/site-packages/tensorflow/contrib/learn/python/learn/datasets/mnist.py:110: dense_to_one_hot (from tensorflow.contrib.learn.python.learn.datasets.mnist) is deprecated and will be removed in a future version.\n",
      "Instructions for updating:\n",
      "Please use tf.one_hot on tensors.\n",
      "Extracting ../03-Convolutional-Neural-Networks/MNIST_data/t10k-images-idx3-ubyte.gz\n",
      "Extracting ../03-Convolutional-Neural-Networks/MNIST_data/t10k-labels-idx1-ubyte.gz\n",
      "WARNING:tensorflow:From /Users/johnleonard/anaconda3/lib/python3.6/site-packages/tensorflow/contrib/learn/python/learn/datasets/mnist.py:290: DataSet.__init__ (from tensorflow.contrib.learn.python.learn.datasets.mnist) is deprecated and will be removed in a future version.\n",
      "Instructions for updating:\n",
      "Please use alternatives such as official/mnist/dataset.py from tensorflow/models.\n"
     ]
    }
   ],
   "source": [
    "mnist = input_data.read_data_sets(\"../03-Convolutional-Neural-Networks/MNIST_data/\",one_hot=True)"
   ]
  },
  {
   "cell_type": "code",
   "execution_count": 5,
   "metadata": {
    "ExecuteTime": {
     "end_time": "2019-03-25T04:10:30.429419Z",
     "start_time": "2019-03-25T04:10:30.425032Z"
    }
   },
   "outputs": [],
   "source": [
    "tf.reset_default_graph() "
   ]
  },
  {
   "cell_type": "markdown",
   "metadata": {},
   "source": [
    "## Parameters"
   ]
  },
  {
   "cell_type": "code",
   "execution_count": 6,
   "metadata": {
    "ExecuteTime": {
     "end_time": "2019-03-25T04:10:30.440773Z",
     "start_time": "2019-03-25T04:10:30.437600Z"
    }
   },
   "outputs": [],
   "source": [
    "n_inputs = 784\n",
    "n_neurons_HL1 = int(n_inputs/2)\n",
    "n_neurons_HL2 = int(n_neurons_HL1/2)\n",
    "n_neurons_HL3 = n_neurons_HL1\n",
    "n_outputs = n_inputs\n",
    "\n",
    "learning_rate = 0.01\n",
    "\n",
    "activation_fxn = tf.nn.relu"
   ]
  },
  {
   "cell_type": "markdown",
   "metadata": {},
   "source": [
    "### Placeholder"
   ]
  },
  {
   "cell_type": "code",
   "execution_count": 7,
   "metadata": {
    "ExecuteTime": {
     "end_time": "2019-03-25T04:10:30.454513Z",
     "start_time": "2019-03-25T04:10:30.449639Z"
    }
   },
   "outputs": [],
   "source": [
    "x = tf.placeholder(tf.float32,shape=[None, n_inputs])"
   ]
  },
  {
   "cell_type": "markdown",
   "metadata": {},
   "source": [
    "### Weights\n",
    "\n",
    "Initializer capable of adapting its scale to the shape of weights tensors.\n",
    "\n",
    "With `distribution=\"normal\"`, samples are drawn from a truncated normal\n",
    "distribution centered on zero, with `stddev = sqrt(scale / n)`\n",
    "where n is:\n",
    "  - number of input units in the weight tensor, if mode = \"fan_in\"\n",
    "  - number of output units, if mode = \"fan_out\"\n",
    "  - average of the numbers of input and output units, if mode = \"fan_avg\"\n",
    "\n",
    "With `distribution=\"uniform\"`, samples are drawn from a uniform distribution\n",
    "within [-limit, limit], with `limit = sqrt(3 * scale / n)`.\n"
   ]
  },
  {
   "cell_type": "code",
   "execution_count": 8,
   "metadata": {
    "ExecuteTime": {
     "end_time": "2019-03-25T04:10:48.693390Z",
     "start_time": "2019-03-25T04:10:48.690618Z"
    }
   },
   "outputs": [],
   "source": [
    "initializer = tf.variance_scaling_initializer() #adapts scale to the shape of the wieghts tensor"
   ]
  },
  {
   "cell_type": "code",
   "execution_count": 9,
   "metadata": {
    "ExecuteTime": {
     "end_time": "2019-03-25T04:14:07.746880Z",
     "start_time": "2019-03-25T04:14:07.709140Z"
    }
   },
   "outputs": [],
   "source": [
    "w1 = tf.Variable(initializer([n_inputs, n_neurons_HL1]),dtype=tf.float32)\n",
    "w2 = tf.Variable(initializer([n_neurons_HL1, n_neurons_HL2]),dtype=tf.float32)\n",
    "w3 = tf.Variable(initializer([n_neurons_HL2, n_neurons_HL3]),dtype=tf.float32)\n",
    "w4 = tf.Variable(initializer([n_neurons_HL3, n_outputs]),dtype=tf.float32)"
   ]
  },
  {
   "cell_type": "markdown",
   "metadata": {},
   "source": [
    "### Biases"
   ]
  },
  {
   "cell_type": "code",
   "execution_count": 11,
   "metadata": {
    "ExecuteTime": {
     "end_time": "2019-03-25T04:15:46.479844Z",
     "start_time": "2019-03-25T04:15:46.452826Z"
    }
   },
   "outputs": [],
   "source": [
    "b1 = tf.Variable(tf.zeros(n_neurons_HL1))\n",
    "b2 = tf.Variable(tf.zeros(n_neurons_HL2))\n",
    "b3 = tf.Variable(tf.zeros(n_neurons_HL3))\n",
    "b4 = tf.Variable(tf.zeros(n_outputs))"
   ]
  },
  {
   "cell_type": "markdown",
   "metadata": {},
   "source": [
    "### Activation Function and Layers"
   ]
  },
  {
   "cell_type": "code",
   "execution_count": 12,
   "metadata": {
    "ExecuteTime": {
     "end_time": "2019-03-25T04:18:13.810290Z",
     "start_time": "2019-03-25T04:18:13.807945Z"
    }
   },
   "outputs": [],
   "source": [
    "activation_fxn = tf.nn.relu"
   ]
  },
  {
   "cell_type": "code",
   "execution_count": 13,
   "metadata": {
    "ExecuteTime": {
     "end_time": "2019-03-25T04:20:43.754598Z",
     "start_time": "2019-03-25T04:20:43.741935Z"
    }
   },
   "outputs": [],
   "source": [
    "HL1 = activation_fxn(tf.matmul(x,w1)+b1)\n",
    "HL2 = activation_fxn(tf.matmul(HL1,w2)+b2)\n",
    "HL3 = activation_fxn(tf.matmul(HL2,w3)+b3)\n",
    "output_layer = activation_fxn(tf.matmul(HL3,w4)+b4)"
   ]
  },
  {
   "cell_type": "markdown",
   "metadata": {},
   "source": [
    "### Loss Function"
   ]
  },
  {
   "cell_type": "code",
   "execution_count": 14,
   "metadata": {
    "ExecuteTime": {
     "end_time": "2019-03-25T04:21:14.952183Z",
     "start_time": "2019-03-25T04:21:14.945945Z"
    }
   },
   "outputs": [],
   "source": [
    "loss = tf.reduce_mean(tf.square(x - output_layer))"
   ]
  },
  {
   "cell_type": "markdown",
   "metadata": {},
   "source": [
    "### Optimizer"
   ]
  },
  {
   "cell_type": "code",
   "execution_count": 15,
   "metadata": {
    "ExecuteTime": {
     "end_time": "2019-03-25T04:21:46.715738Z",
     "start_time": "2019-03-25T04:21:46.562138Z"
    }
   },
   "outputs": [],
   "source": [
    "optimizer = tf.train.AdamOptimizer(learning_rate)\n",
    "\n",
    "minimizer = optimizer.minimize(loss)"
   ]
  },
  {
   "cell_type": "markdown",
   "metadata": {},
   "source": [
    "### Intialize Variables"
   ]
  },
  {
   "cell_type": "code",
   "execution_count": 16,
   "metadata": {
    "ExecuteTime": {
     "end_time": "2019-03-25T04:21:56.751295Z",
     "start_time": "2019-03-25T04:21:56.747840Z"
    }
   },
   "outputs": [],
   "source": [
    "init = tf.global_variables_initializer()"
   ]
  },
  {
   "cell_type": "markdown",
   "metadata": {},
   "source": [
    "### Run the Model"
   ]
  },
  {
   "cell_type": "code",
   "execution_count": null,
   "metadata": {},
   "outputs": [],
   "source": [
    "from tensorflow import sav"
   ]
  },
  {
   "cell_type": "code",
   "execution_count": 22,
   "metadata": {
    "ExecuteTime": {
     "end_time": "2019-03-25T04:31:54.255965Z",
     "start_time": "2019-03-25T04:31:41.023712Z"
    }
   },
   "outputs": [
    {
     "name": "stdout",
     "output_type": "stream",
     "text": [
      "Epoch:0\t Loss:0.02506616711616516\n",
      "Epoch:1\t Loss:0.023722490295767784\n",
      "Epoch:2\t Loss:0.021900678053498268\n",
      "Epoch:3\t Loss:0.022114679217338562\n",
      "Epoch:4\t Loss:0.019307712092995644\n"
     ]
    }
   ],
   "source": [
    "n_epochs = 5\n",
    "batch_size = 150\n",
    "\n",
    "saver = tf.train.Saver()\n",
    "\n",
    "with tf.Session() as sess:\n",
    "    \n",
    "    sess.run(init)\n",
    "    \n",
    "    for epoch in range(n_epochs):\n",
    "        n_batchs = mnist.train.num_examples // batch_size\n",
    "        \n",
    "        for iteration in range(n_batchs):\n",
    "            x_batch, y_batch = mnist.train.next_batch(batch_size)\n",
    "            \n",
    "            sess.run(minimizer, feed_dict = {x: x_batch})\n",
    "        \n",
    "        train_loss = loss.eval(feed_dict={x:x_batch})\n",
    "        \n",
    "        print(\"Epoch:{}\\t Loss:{}\".format(epoch, train_loss))\n",
    "        \n",
    "    saver.save(sess,'./example_stacked_autoencoder.ckpt')"
   ]
  },
  {
   "cell_type": "markdown",
   "metadata": {},
   "source": [
    "## Test Autoencoder output on Test Data"
   ]
  },
  {
   "cell_type": "code",
   "execution_count": 25,
   "metadata": {
    "ExecuteTime": {
     "end_time": "2019-03-25T04:35:18.703648Z",
     "start_time": "2019-03-25T04:35:18.656061Z"
    }
   },
   "outputs": [
    {
     "name": "stdout",
     "output_type": "stream",
     "text": [
      "INFO:tensorflow:Restoring parameters from ./example_stacked_autoencoder.ckpt\n"
     ]
    }
   ],
   "source": [
    "n_test_image = 10\n",
    "\n",
    "with tf.Session() as sess:\n",
    "    saver.restore(sess,'./example_stacked_autoencoder.ckpt')\n",
    "    \n",
    "    results = output_layer.eval(feed_dict={x:mnist.test.images[:n_test_image]})\n",
    "    "
   ]
  },
  {
   "cell_type": "code",
   "execution_count": 28,
   "metadata": {
    "ExecuteTime": {
     "end_time": "2019-03-25T04:38:23.270959Z",
     "start_time": "2019-03-25T04:38:22.262818Z"
    }
   },
   "outputs": [
    {
     "data": {
      "image/png": "[encoded data removed]",
      "text/plain": [
       "<Figure size 1440x288 with 20 Axes>"
      ]
     },
     "metadata": {},
     "output_type": "display_data"
    }
   ],
   "source": [
    "f, a = plt.subplots(2,10, figsize = (20,4))\n",
    "for i in range(n_test_image):\n",
    "    a[0][i].imshow(np.reshape(mnist.test.images[i], (28, 28)))\n",
    "    a[1][i].imshow(np.reshape(results[i],(28,28)))"
   ]
  },
  {
   "cell_type": "code",
   "execution_count": null,
   "metadata": {},
   "outputs": [],
   "source": []
  }
 ],
 "metadata": {
  "anaconda-cloud": {},
  "kernelspec": {
   "display_name": "Python 3",
   "language": "python",
   "name": "python3"
  },
  "language_info": {
   "codemirror_mode": {
    "name": "ipython",
    "version": 3
   },
   "file_extension": ".py",
   "mimetype": "text/x-python",
   "name": "python",
   "nbconvert_exporter": "python",
   "pygments_lexer": "ipython3",
   "version": "3.6.8"
  },
  "toc": {
   "base_numbering": 1,
   "nav_menu": {},
   "number_sections": true,
   "sideBar": true,
   "skip_h1_title": false,
   "title_cell": "Table of Contents",
   "title_sidebar": "Contents",
   "toc_cell": false,
   "toc_position": {},
   "toc_section_display": true,
   "toc_window_display": false
  },
  "varInspector": {
   "cols": {
    "lenName": 16,
    "lenType": 16,
    "lenVar": 40
   },
   "kernels_config": {
    "python": {
     "delete_cmd_postfix": "",
     "delete_cmd_prefix": "del ",
     "library": "var_list.py",
     "varRefreshCmd": "print(var_dic_list())"
    },
    "r": {
     "delete_cmd_postfix": ") ",
     "delete_cmd_prefix": "rm(",
     "library": "var_list.r",
     "varRefreshCmd": "cat(var_dic_list()) "
    }
   },
   "types_to_exclude": [
    "module",
    "function",
    "builtin_function_or_method",
    "instance",
    "_Feature"
   ],
   "window_display": false
  }
 },
 "nbformat": 4,
 "nbformat_minor": 2
}
