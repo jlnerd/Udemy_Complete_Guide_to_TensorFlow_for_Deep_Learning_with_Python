{
 "cells": [
  {
   "cell_type": "markdown",
   "metadata": {},
   "source": [
    "# Deep Nets with TF Abstractions\n",
    "\n",
    "Let's explore a few of the various abstractions that TensorFlow offers. You can check out the tf.contrib documentation for more options."
   ]
  },
  {
   "cell_type": "markdown",
   "metadata": {},
   "source": [
    "# The Data"
   ]
  },
  {
   "cell_type": "markdown",
   "metadata": {},
   "source": [
    "To compare these various abstractions we'll use a dataset easily available from the SciKit Learn library. The data is comprised of the results of a chemical analysis of wines grown in the same region in Italy by three different cultivators. There are thirteen different\n",
    "measurements taken for different constituents found in the three types of wine. We will use the various TF Abstractions to classify the wine to one of the 3 possible labels.\n",
    "\n",
    "First let's show you how to get the data:"
   ]
  },
  {
   "cell_type": "code",
   "execution_count": 1,
   "metadata": {
    "ExecuteTime": {
     "end_time": "2019-03-24T15:52:07.529769Z",
     "start_time": "2019-03-24T15:52:07.248614Z"
    }
   },
   "outputs": [],
   "source": [
    "import sklearn.datasets"
   ]
  },
  {
   "cell_type": "code",
   "execution_count": 2,
   "metadata": {
    "ExecuteTime": {
     "end_time": "2019-03-24T15:52:34.189119Z",
     "start_time": "2019-03-24T15:52:34.178135Z"
    }
   },
   "outputs": [],
   "source": [
    "wine_data = sklearn.datasets.load_wine()"
   ]
  },
  {
   "cell_type": "code",
   "execution_count": 3,
   "metadata": {
    "ExecuteTime": {
     "end_time": "2019-03-24T15:52:40.813939Z",
     "start_time": "2019-03-24T15:52:40.803465Z"
    }
   },
   "outputs": [
    {
     "data": {
      "text/plain": [
       "sklearn.utils.Bunch"
      ]
     },
     "execution_count": 3,
     "metadata": {},
     "output_type": "execute_result"
    }
   ],
   "source": [
    "type(wine_data)"
   ]
  },
  {
   "cell_type": "code",
   "execution_count": 4,
   "metadata": {
    "ExecuteTime": {
     "end_time": "2019-03-24T15:52:54.863658Z",
     "start_time": "2019-03-24T15:52:54.859335Z"
    }
   },
   "outputs": [
    {
     "data": {
      "text/plain": [
       "dict_keys(['data', 'target', 'target_names', 'DESCR', 'feature_names'])"
      ]
     },
     "execution_count": 4,
     "metadata": {},
     "output_type": "execute_result"
    }
   ],
   "source": [
    "wine_data.keys()"
   ]
  },
  {
   "cell_type": "code",
   "execution_count": 5,
   "metadata": {
    "ExecuteTime": {
     "end_time": "2019-03-24T15:53:13.250482Z",
     "start_time": "2019-03-24T15:53:13.247522Z"
    }
   },
   "outputs": [
    {
     "name": "stdout",
     "output_type": "stream",
     "text": [
      "Wine Data Database\n",
      "====================\n",
      "\n",
      "Notes\n",
      "-----\n",
      "Data Set Characteristics:\n",
      "    :Number of Instances: 178 (50 in each of three classes)\n",
      "    :Number of Attributes: 13 numeric, predictive attributes and the class\n",
      "    :Attribute Information:\n",
      " \t\t- 1) Alcohol\n",
      " \t\t- 2) Malic acid\n",
      " \t\t- 3) Ash\n",
      "\t\t- 4) Alcalinity of ash  \n",
      " \t\t- 5) Magnesium\n",
      "\t\t- 6) Total phenols\n",
      " \t\t- 7) Flavanoids\n",
      " \t\t- 8) Nonflavanoid phenols\n",
      " \t\t- 9) Proanthocyanins\n",
      "\t\t- 10)Color intensity\n",
      " \t\t- 11)Hue\n",
      " \t\t- 12)OD280/OD315 of diluted wines\n",
      " \t\t- 13)Proline\n",
      "        \t- class:\n",
      "                - class_0\n",
      "                - class_1\n",
      "                - class_2\n",
      "\t\t\n",
      "    :Summary Statistics:\n",
      "    \n",
      "    ============================= ==== ===== ======= =====\n",
      "                                   Min   Max   Mean     SD\n",
      "    ============================= ==== ===== ======= =====\n",
      "    Alcohol:                      11.0  14.8    13.0   0.8\n",
      "    Malic Acid:                   0.74  5.80    2.34  1.12\n",
      "    Ash:                          1.36  3.23    2.36  0.27\n",
      "    Alcalinity of Ash:            10.6  30.0    19.5   3.3\n",
      "    Magnesium:                    70.0 162.0    99.7  14.3\n",
      "    Total Phenols:                0.98  3.88    2.29  0.63\n",
      "    Flavanoids:                   0.34  5.08    2.03  1.00\n",
      "    Nonflavanoid Phenols:         0.13  0.66    0.36  0.12\n",
      "    Proanthocyanins:              0.41  3.58    1.59  0.57\n",
      "    Colour Intensity:              1.3  13.0     5.1   2.3\n",
      "    Hue:                          0.48  1.71    0.96  0.23\n",
      "    OD280/OD315 of diluted wines: 1.27  4.00    2.61  0.71\n",
      "    Proline:                       278  1680     746   315\n",
      "    ============================= ==== ===== ======= =====\n",
      "\n",
      "    :Missing Attribute Values: None\n",
      "    :Class Distribution: class_0 (59), class_1 (71), class_2 (48)\n",
      "    :Creator: R.A. Fisher\n",
      "    :Donor: Michael Marshall (MARSHALL%PLU@io.arc.nasa.gov)\n",
      "    :Date: July, 1988\n",
      "\n",
      "This is a copy of UCI ML Wine recognition datasets.\n",
      "https://archive.ics.uci.edu/ml/machine-learning-databases/wine/wine.data\n",
      "\n",
      "The data is the results of a chemical analysis of wines grown in the same\n",
      "region in Italy by three different cultivators. There are thirteen different\n",
      "measurements taken for different constituents found in the three types of\n",
      "wine.\n",
      "\n",
      "Original Owners: \n",
      "\n",
      "Forina, M. et al, PARVUS - \n",
      "An Extendible Package for Data Exploration, Classification and Correlation. \n",
      "Institute of Pharmaceutical and Food Analysis and Technologies,\n",
      "Via Brigata Salerno, 16147 Genoa, Italy.\n",
      "\n",
      "Citation:\n",
      "\n",
      "Lichman, M. (2013). UCI Machine Learning Repository\n",
      "[http://archive.ics.uci.edu/ml]. Irvine, CA: University of California,\n",
      "School of Information and Computer Science. \n",
      "\n",
      "References\n",
      "----------\n",
      "(1) \n",
      "S. Aeberhard, D. Coomans and O. de Vel, \n",
      "Comparison of Classifiers in High Dimensional Settings, \n",
      "Tech. Rep. no. 92-02, (1992), Dept. of Computer Science and Dept. of \n",
      "Mathematics and Statistics, James Cook University of North Queensland. \n",
      "(Also submitted to Technometrics). \n",
      "\n",
      "The data was used with many others for comparing various \n",
      "classifiers. The classes are separable, though only RDA \n",
      "has achieved 100% correct classification. \n",
      "(RDA : 100%, QDA 99.4%, LDA 98.9%, 1NN 96.1% (z-transformed data)) \n",
      "(All results using the leave-one-out technique) \n",
      "\n",
      "(2) \n",
      "S. Aeberhard, D. Coomans and O. de Vel, \n",
      "\"THE CLASSIFICATION PERFORMANCE OF RDA\" \n",
      "Tech. Rep. no. 92-01, (1992), Dept. of Computer Science and Dept. of \n",
      "Mathematics and Statistics, James Cook University of North Queensland. \n",
      "(Also submitted to Journal of Chemometrics). \n",
      "\n"
     ]
    }
   ],
   "source": [
    "print(wine_data['DESCR'])"
   ]
  },
  {
   "cell_type": "code",
   "execution_count": 7,
   "metadata": {
    "ExecuteTime": {
     "end_time": "2019-03-24T15:54:25.275084Z",
     "start_time": "2019-03-24T15:54:25.272619Z"
    }
   },
   "outputs": [],
   "source": [
    "feat_data = wine_data['data']\n",
    "labels = wine_data['target']"
   ]
  },
  {
   "cell_type": "markdown",
   "metadata": {},
   "source": [
    "### Train Test Split"
   ]
  },
  {
   "cell_type": "code",
   "execution_count": 8,
   "metadata": {
    "ExecuteTime": {
     "end_time": "2019-03-24T15:54:43.913829Z",
     "start_time": "2019-03-24T15:54:43.899383Z"
    }
   },
   "outputs": [],
   "source": [
    "import sklearn.model_selection"
   ]
  },
  {
   "cell_type": "code",
   "execution_count": 9,
   "metadata": {
    "ExecuteTime": {
     "end_time": "2019-03-24T15:55:45.408504Z",
     "start_time": "2019-03-24T15:55:45.399016Z"
    }
   },
   "outputs": [],
   "source": [
    "x_train, x_test, y_train, y_test = sklearn.model_selection.train_test_split(feat_data,\n",
    "                                                                            labels,\n",
    "                                                                            test_size = 0.3,\n",
    "                                                                            random_state = 101)"
   ]
  },
  {
   "cell_type": "code",
   "execution_count": 12,
   "metadata": {
    "ExecuteTime": {
     "end_time": "2019-03-24T15:58:09.617993Z",
     "start_time": "2019-03-24T15:58:09.614830Z"
    }
   },
   "outputs": [],
   "source": []
  },
  {
   "cell_type": "markdown",
   "metadata": {},
   "source": [
    "### Scale the Data"
   ]
  },
  {
   "cell_type": "code",
   "execution_count": 14,
   "metadata": {
    "ExecuteTime": {
     "end_time": "2019-03-24T15:58:35.509163Z",
     "start_time": "2019-03-24T15:58:35.506617Z"
    }
   },
   "outputs": [],
   "source": [
    "import sklearn.preprocessing"
   ]
  },
  {
   "cell_type": "code",
   "execution_count": 15,
   "metadata": {
    "ExecuteTime": {
     "end_time": "2019-03-24T15:58:35.872058Z",
     "start_time": "2019-03-24T15:58:35.868432Z"
    }
   },
   "outputs": [],
   "source": [
    "scaler = sklearn.preprocessing.MinMaxScaler()\n",
    "scaled_x_train = scaler.fit_transform(x_train)\n",
    "scaled_x_test = scaler.transform(x_test)"
   ]
  },
  {
   "cell_type": "markdown",
   "metadata": {},
   "source": [
    "# Abstractions"
   ]
  },
  {
   "cell_type": "markdown",
   "metadata": {},
   "source": [
    "## Estimator API"
   ]
  },
  {
   "cell_type": "code",
   "execution_count": 16,
   "metadata": {
    "ExecuteTime": {
     "end_time": "2019-03-24T16:00:07.167142Z",
     "start_time": "2019-03-24T16:00:04.941470Z"
    }
   },
   "outputs": [
    {
     "name": "stderr",
     "output_type": "stream",
     "text": [
      "/Users/johnleonard/anaconda3/lib/python3.6/site-packages/h5py/__init__.py:36: FutureWarning: Conversion of the second argument of issubdtype from `float` to `np.floating` is deprecated. In future, it will be treated as `np.float64 == np.dtype(float).type`.\n",
      "  from ._conv import register_converters as _register_converters\n"
     ]
    }
   ],
   "source": [
    "import tensorflow as tf"
   ]
  },
  {
   "cell_type": "code",
   "execution_count": 20,
   "metadata": {
    "ExecuteTime": {
     "end_time": "2019-03-24T16:02:36.193027Z",
     "start_time": "2019-03-24T16:02:36.188646Z"
    }
   },
   "outputs": [
    {
     "data": {
      "text/plain": [
       "(124, 13)"
      ]
     },
     "execution_count": 20,
     "metadata": {},
     "output_type": "execute_result"
    }
   ],
   "source": [
    "x_train_shape = x_train.shape\n",
    "x_train_shape"
   ]
  },
  {
   "cell_type": "code",
   "execution_count": 19,
   "metadata": {
    "ExecuteTime": {
     "end_time": "2019-03-24T16:01:44.610619Z",
     "start_time": "2019-03-24T16:01:44.607669Z"
    }
   },
   "outputs": [],
   "source": [
    "feat_cols = [tf.feature_column.numeric_column('x',shape = [13])]"
   ]
  },
  {
   "cell_type": "code",
   "execution_count": 22,
   "metadata": {
    "ExecuteTime": {
     "end_time": "2019-03-24T16:05:46.591347Z",
     "start_time": "2019-03-24T16:05:46.584670Z"
    }
   },
   "outputs": [
    {
     "name": "stdout",
     "output_type": "stream",
     "text": [
      "INFO:tensorflow:Using default config.\n",
      "WARNING:tensorflow:Using temporary folder as model directory: /var/folders/dk/jmp2jdj96xd00z6w7mbmgvh40000gn/T/tmp_7avpzx1\n",
      "INFO:tensorflow:Using config: {'_model_dir': '/var/folders/dk/jmp2jdj96xd00z6w7mbmgvh40000gn/T/tmp_7avpzx1', '_tf_random_seed': None, '_save_summary_steps': 100, '_save_checkpoints_steps': None, '_save_checkpoints_secs': 600, '_session_config': allow_soft_placement: true\n",
      "graph_options {\n",
      "  rewrite_options {\n",
      "    meta_optimizer_iterations: ONE\n",
      "  }\n",
      "}\n",
      ", '_keep_checkpoint_max': 5, '_keep_checkpoint_every_n_hours': 10000, '_log_step_count_steps': 100, '_train_distribute': None, '_device_fn': None, '_protocol': None, '_eval_distribute': None, '_experimental_distribute': None, '_service': None, '_cluster_spec': <tensorflow.python.training.server_lib.ClusterSpec object at 0x1a261cb7f0>, '_task_type': 'worker', '_task_id': 0, '_global_id_in_cluster': 0, '_master': '', '_evaluation_master': '', '_is_chief': True, '_num_ps_replicas': 0, '_num_worker_replicas': 1}\n"
     ]
    }
   ],
   "source": [
    "deep_model = tf.estimator.DNNClassifier(hidden_units = [13,13,13], \n",
    "                                        feature_columns = feat_cols,\n",
    "                                        n_classes = 3,\n",
    "                                        optimizer = tf.train.GradientDescentOptimizer(learning_rate=0.01))"
   ]
  },
  {
   "cell_type": "code",
   "execution_count": 24,
   "metadata": {
    "ExecuteTime": {
     "end_time": "2019-03-24T16:07:52.706643Z",
     "start_time": "2019-03-24T16:07:52.703760Z"
    }
   },
   "outputs": [],
   "source": [
    "input_fn = tf.estimator.inputs.numpy_input_fn(x = {'x':scaled_x_train},\n",
    "                                              y = y_train,\n",
    "                                              shuffle = True,\n",
    "                                              batch_size = 10,\n",
    "                                              num_epochs = 5)"
   ]
  },
  {
   "cell_type": "code",
   "execution_count": 25,
   "metadata": {
    "ExecuteTime": {
     "end_time": "2019-03-24T16:08:13.898060Z",
     "start_time": "2019-03-24T16:08:12.892711Z"
    }
   },
   "outputs": [
    {
     "name": "stdout",
     "output_type": "stream",
     "text": [
      "WARNING:tensorflow:From /Users/johnleonard/anaconda3/lib/python3.6/site-packages/tensorflow/python/estimator/inputs/queues/feeding_queue_runner.py:62: QueueRunner.__init__ (from tensorflow.python.training.queue_runner_impl) is deprecated and will be removed in a future version.\n",
      "Instructions for updating:\n",
      "To construct input pipelines, use the `tf.data` module.\n",
      "WARNING:tensorflow:From /Users/johnleonard/anaconda3/lib/python3.6/site-packages/tensorflow/python/estimator/inputs/queues/feeding_functions.py:500: add_queue_runner (from tensorflow.python.training.queue_runner_impl) is deprecated and will be removed in a future version.\n",
      "Instructions for updating:\n",
      "To construct input pipelines, use the `tf.data` module.\n",
      "INFO:tensorflow:Calling model_fn.\n",
      "INFO:tensorflow:Done calling model_fn.\n",
      "INFO:tensorflow:Create CheckpointSaverHook.\n",
      "INFO:tensorflow:Graph was finalized.\n",
      "INFO:tensorflow:Running local_init_op.\n",
      "INFO:tensorflow:Done running local_init_op.\n",
      "WARNING:tensorflow:From /Users/johnleonard/anaconda3/lib/python3.6/site-packages/tensorflow/python/training/monitored_session.py:804: start_queue_runners (from tensorflow.python.training.queue_runner_impl) is deprecated and will be removed in a future version.\n",
      "Instructions for updating:\n",
      "To construct input pipelines, use the `tf.data` module.\n",
      "INFO:tensorflow:Saving checkpoints for 0 into /var/folders/dk/jmp2jdj96xd00z6w7mbmgvh40000gn/T/tmp_7avpzx1/model.ckpt.\n",
      "INFO:tensorflow:loss = 11.2792225, step = 1\n",
      "INFO:tensorflow:Saving checkpoints for 62 into /var/folders/dk/jmp2jdj96xd00z6w7mbmgvh40000gn/T/tmp_7avpzx1/model.ckpt.\n",
      "INFO:tensorflow:Loss for final step: 6.2916193.\n"
     ]
    },
    {
     "data": {
      "text/plain": [
       "<tensorflow.python.estimator.canned.dnn.DNNClassifier at 0x1a261cbb38>"
      ]
     },
     "execution_count": 25,
     "metadata": {},
     "output_type": "execute_result"
    }
   ],
   "source": [
    "deep_model.train(input_fn=input_fn, steps = 500)"
   ]
  },
  {
   "cell_type": "code",
   "execution_count": 26,
   "metadata": {
    "ExecuteTime": {
     "end_time": "2019-03-24T16:09:14.068681Z",
     "start_time": "2019-03-24T16:09:14.065982Z"
    }
   },
   "outputs": [],
   "source": [
    "input_fn_eval = tf.estimator.inputs.numpy_input_fn(x={'x':scaled_x_test},shuffle=False)"
   ]
  },
  {
   "cell_type": "code",
   "execution_count": 29,
   "metadata": {
    "ExecuteTime": {
     "end_time": "2019-03-24T16:10:24.949222Z",
     "start_time": "2019-03-24T16:10:24.633636Z"
    }
   },
   "outputs": [
    {
     "name": "stdout",
     "output_type": "stream",
     "text": [
      "INFO:tensorflow:Calling model_fn.\n",
      "INFO:tensorflow:Done calling model_fn.\n",
      "INFO:tensorflow:Graph was finalized.\n",
      "INFO:tensorflow:Restoring parameters from /var/folders/dk/jmp2jdj96xd00z6w7mbmgvh40000gn/T/tmp_7avpzx1/model.ckpt-62\n",
      "INFO:tensorflow:Running local_init_op.\n",
      "INFO:tensorflow:Done running local_init_op.\n"
     ]
    }
   ],
   "source": [
    "preds_dict = list(deep_model.predict(input_fn=input_fn_eval))"
   ]
  },
  {
   "cell_type": "code",
   "execution_count": 30,
   "metadata": {
    "ExecuteTime": {
     "end_time": "2019-03-24T16:10:30.866391Z",
     "start_time": "2019-03-24T16:10:30.832373Z"
    }
   },
   "outputs": [
    {
     "data": {
      "text/plain": [
       "[{'logits': array([ 1.3203056 ,  0.66884035, -0.47925538], dtype=float32),\n",
       "  'probabilities': array([0.5928902 , 0.30906266, 0.09804712], dtype=float32),\n",
       "  'class_ids': array([0]),\n",
       "  'classes': array([b'0'], dtype=object)},\n",
       " {'logits': array([ 1.6883984 ,  0.72956645, -0.62155837], dtype=float32),\n",
       "  'probabilities': array([0.67448807, 0.25855854, 0.06695343], dtype=float32),\n",
       "  'class_ids': array([0]),\n",
       "  'classes': array([b'0'], dtype=object)},\n",
       " {'logits': array([-0.59280056,  0.45276704,  0.9024872 ], dtype=float32),\n",
       "  'probabilities': array([0.12040021, 0.34254014, 0.5370596 ], dtype=float32),\n",
       "  'class_ids': array([2]),\n",
       "  'classes': array([b'2'], dtype=object)},\n",
       " {'logits': array([ 2.1241436 ,  0.73775977, -0.7794189 ], dtype=float32),\n",
       "  'probabilities': array([0.76639795, 0.19158235, 0.04201972], dtype=float32),\n",
       "  'class_ids': array([0]),\n",
       "  'classes': array([b'0'], dtype=object)},\n",
       " {'logits': array([-0.5677726 ,  0.45036754,  0.9193898 ], dtype=float32),\n",
       "  'probabilities': array([0.12206191, 0.33787248, 0.54006565], dtype=float32),\n",
       "  'class_ids': array([2]),\n",
       "  'classes': array([b'2'], dtype=object)},\n",
       " {'logits': array([0.01883356, 0.49400607, 0.22307135], dtype=float32),\n",
       "  'probabilities': array([0.26076427, 0.419385  , 0.3198508 ], dtype=float32),\n",
       "  'class_ids': array([1]),\n",
       "  'classes': array([b'1'], dtype=object)},\n",
       " {'logits': array([-0.5794805 ,  0.5019603 ,  0.84034663], dtype=float32),\n",
       "  'probabilities': array([0.12368076, 0.36472538, 0.5115938 ], dtype=float32),\n",
       "  'class_ids': array([2]),\n",
       "  'classes': array([b'2'], dtype=object)},\n",
       " {'logits': array([ 1.9502857,  0.7355007, -0.7522442], dtype=float32),\n",
       "  'probabilities': array([0.73324025, 0.21760651, 0.04915328], dtype=float32),\n",
       "  'class_ids': array([0]),\n",
       "  'classes': array([b'0'], dtype=object)},\n",
       " {'logits': array([ 1.1491697,  0.9356318, -0.5109402], dtype=float32),\n",
       "  'probabilities': array([0.5005407 , 0.4042975 , 0.09516183], dtype=float32),\n",
       "  'class_ids': array([0]),\n",
       "  'classes': array([b'0'], dtype=object)},\n",
       " {'logits': array([ 1.6625688,  0.8519235, -0.6940461], dtype=float32),\n",
       "  'probabilities': array([0.6496411 , 0.28881165, 0.06154725], dtype=float32),\n",
       "  'class_ids': array([0]),\n",
       "  'classes': array([b'0'], dtype=object)},\n",
       " {'logits': array([ 2.0895743 ,  0.71926486, -0.81562084], dtype=float32),\n",
       "  'probabilities': array([0.7640783 , 0.19409753, 0.0418242 ], dtype=float32),\n",
       "  'class_ids': array([0]),\n",
       "  'classes': array([b'0'], dtype=object)},\n",
       " {'logits': array([ 1.0139229,  0.8081911, -0.3755811], dtype=float32),\n",
       "  'probabilities': array([0.48467216, 0.39454806, 0.12077976], dtype=float32),\n",
       "  'class_ids': array([0]),\n",
       "  'classes': array([b'0'], dtype=object)},\n",
       " {'logits': array([ 1.0657535 ,  0.69239444, -0.4171936 ], dtype=float32),\n",
       "  'probabilities': array([0.522088  , 0.3594148 , 0.11849716], dtype=float32),\n",
       "  'class_ids': array([0]),\n",
       "  'classes': array([b'0'], dtype=object)},\n",
       " {'logits': array([ 1.3545027 ,  0.6884684 , -0.51285654], dtype=float32),\n",
       "  'probabilities': array([0.5994222 , 0.30794832, 0.09262944], dtype=float32),\n",
       "  'class_ids': array([0]),\n",
       "  'classes': array([b'0'], dtype=object)},\n",
       " {'logits': array([ 1.755821 ,  0.6400726, -0.5981459], dtype=float32),\n",
       "  'probabilities': array([0.70290786, 0.23032178, 0.06677033], dtype=float32),\n",
       "  'class_ids': array([0]),\n",
       "  'classes': array([b'0'], dtype=object)},\n",
       " {'logits': array([ 1.8520474 ,  0.7018042 , -0.65294653], dtype=float32),\n",
       "  'probabilities': array([0.7151869 , 0.22639938, 0.05841367], dtype=float32),\n",
       "  'class_ids': array([0]),\n",
       "  'classes': array([b'0'], dtype=object)},\n",
       " {'logits': array([ 0.4880752 ,  0.72986716, -0.09695567], dtype=float32),\n",
       "  'probabilities': array([0.35327974, 0.44991207, 0.19680814], dtype=float32),\n",
       "  'class_ids': array([1]),\n",
       "  'classes': array([b'1'], dtype=object)},\n",
       " {'logits': array([-0.5790452,  0.4551609,  0.8664146], dtype=float32),\n",
       "  'probabilities': array([0.12412068, 0.3491356 , 0.5267437 ], dtype=float32),\n",
       "  'class_ids': array([2]),\n",
       "  'classes': array([b'2'], dtype=object)},\n",
       " {'logits': array([ 0.5226032 ,  0.81105393, -0.00149105], dtype=float32),\n",
       "  'probabilities': array([0.34171095, 0.45596495, 0.20232412], dtype=float32),\n",
       "  'class_ids': array([1]),\n",
       "  'classes': array([b'1'], dtype=object)},\n",
       " {'logits': array([0.4832213 , 0.8396915 , 0.04869081], dtype=float32),\n",
       "  'probabilities': array([0.32511362, 0.46435297, 0.21053338], dtype=float32),\n",
       "  'class_ids': array([1]),\n",
       "  'classes': array([b'1'], dtype=object)},\n",
       " {'logits': array([0.14988923, 0.8234922 , 0.14570089], dtype=float32),\n",
       "  'probabilities': array([0.2527096 , 0.4956371 , 0.25165337], dtype=float32),\n",
       "  'class_ids': array([1]),\n",
       "  'classes': array([b'1'], dtype=object)},\n",
       " {'logits': array([-0.24714957,  0.54549646,  0.5492447 ], dtype=float32),\n",
       "  'probabilities': array([0.18427184, 0.4070997 , 0.40862846], dtype=float32),\n",
       "  'class_ids': array([2]),\n",
       "  'classes': array([b'2'], dtype=object)},\n",
       " {'logits': array([-0.56741595,  0.5411987 ,  0.8451244 ], dtype=float32),\n",
       "  'probabilities': array([0.12290249, 0.37241393, 0.5046836 ], dtype=float32),\n",
       "  'class_ids': array([2]),\n",
       "  'classes': array([b'2'], dtype=object)},\n",
       " {'logits': array([-0.5143807,  0.3449561,  0.8101069], dtype=float32),\n",
       "  'probabilities': array([0.14041293, 0.3315983 , 0.5279888 ], dtype=float32),\n",
       "  'class_ids': array([2]),\n",
       "  'classes': array([b'2'], dtype=object)},\n",
       " {'logits': array([ 1.7823522 ,  0.70289445, -0.65152687], dtype=float32),\n",
       "  'probabilities': array([0.7005373 , 0.23802839, 0.06143431], dtype=float32),\n",
       "  'class_ids': array([0]),\n",
       "  'classes': array([b'0'], dtype=object)},\n",
       " {'logits': array([ 1.7005079 ,  0.7890161 , -0.63035005], dtype=float32),\n",
       "  'probabilities': array([0.66705066, 0.2681038 , 0.06484553], dtype=float32),\n",
       "  'class_ids': array([0]),\n",
       "  'classes': array([b'0'], dtype=object)},\n",
       " {'logits': array([ 0.7038548 ,  0.83184713, -0.22705798], dtype=float32),\n",
       "  'probabilities': array([0.39514163, 0.44909596, 0.15576236], dtype=float32),\n",
       "  'class_ids': array([1]),\n",
       "  'classes': array([b'1'], dtype=object)},\n",
       " {'logits': array([0.24196142, 0.6815181 , 0.19469012], dtype=float32),\n",
       "  'probabilities': array([0.28523773, 0.44269434, 0.27206787], dtype=float32),\n",
       "  'class_ids': array([1]),\n",
       "  'classes': array([b'1'], dtype=object)},\n",
       " {'logits': array([-0.5659522 ,  0.31517747,  0.9033769 ], dtype=float32),\n",
       "  'probabilities': array([0.12886693, 0.31103644, 0.5600967 ], dtype=float32),\n",
       "  'class_ids': array([2]),\n",
       "  'classes': array([b'2'], dtype=object)},\n",
       " {'logits': array([-0.08487073,  0.68429035,  0.4412499 ], dtype=float32),\n",
       "  'probabilities': array([0.20617239, 0.4449108 , 0.34891674], dtype=float32),\n",
       "  'class_ids': array([1]),\n",
       "  'classes': array([b'1'], dtype=object)},\n",
       " {'logits': array([-0.50765884,  0.35739493,  0.67622393], dtype=float32),\n",
       "  'probabilities': array([0.15055326, 0.35758412, 0.49186268], dtype=float32),\n",
       "  'class_ids': array([2]),\n",
       "  'classes': array([b'2'], dtype=object)},\n",
       " {'logits': array([-0.23013476,  0.47738013,  0.4384116 ], dtype=float32),\n",
       "  'probabilities': array([0.20078944, 0.4073903 , 0.39182022], dtype=float32),\n",
       "  'class_ids': array([1]),\n",
       "  'classes': array([b'1'], dtype=object)},\n",
       " {'logits': array([-0.1532763,  0.4632324,  0.4680105], dtype=float32),\n",
       "  'probabilities': array([0.21214437, 0.39298669, 0.3948689 ], dtype=float32),\n",
       "  'class_ids': array([2]),\n",
       "  'classes': array([b'2'], dtype=object)},\n",
       " {'logits': array([ 1.4690704,  0.6615563, -0.5564556], dtype=float32),\n",
       "  'probabilities': array([0.6337579 , 0.28263402, 0.08360814], dtype=float32),\n",
       "  'class_ids': array([0]),\n",
       "  'classes': array([b'0'], dtype=object)},\n",
       " {'logits': array([ 1.0799761 ,  0.7990936 , -0.36328685], dtype=float32),\n",
       "  'probabilities': array([0.5021913 , 0.3792132 , 0.11859546], dtype=float32),\n",
       "  'class_ids': array([0]),\n",
       "  'classes': array([b'0'], dtype=object)},\n",
       " {'logits': array([ 1.9895549,  0.7191821, -0.7787532], dtype=float32),\n",
       "  'probabilities': array([0.7443273 , 0.20895272, 0.04672002], dtype=float32),\n",
       "  'class_ids': array([0]),\n",
       "  'classes': array([b'0'], dtype=object)},\n",
       " {'logits': array([ 1.9223199 ,  0.60139126, -0.7007492 ], dtype=float32),\n",
       "  'probabilities': array([0.7465655 , 0.19924891, 0.05418555], dtype=float32),\n",
       "  'class_ids': array([0]),\n",
       "  'classes': array([b'0'], dtype=object)},\n",
       " {'logits': array([0.01496956, 0.4543376 , 0.09223936], dtype=float32),\n",
       "  'probabilities': array([0.27532586, 0.4272304 , 0.29744375], dtype=float32),\n",
       "  'class_ids': array([1]),\n",
       "  'classes': array([b'1'], dtype=object)},\n",
       " {'logits': array([ 1.3321557 ,  0.6552809 , -0.58372927], dtype=float32),\n",
       "  'probabilities': array([0.60407835, 0.30699426, 0.08892728], dtype=float32),\n",
       "  'class_ids': array([0]),\n",
       "  'classes': array([b'0'], dtype=object)},\n",
       " {'logits': array([-0.62176305,  0.43557405,  1.0423355 ], dtype=float32),\n",
       "  'probabilities': array([0.10917501, 0.31428155, 0.57654345], dtype=float32),\n",
       "  'class_ids': array([2]),\n",
       "  'classes': array([b'2'], dtype=object)},\n",
       " {'logits': array([-0.20422222,  0.8182786 ,  0.5398342 ], dtype=float32),\n",
       "  'probabilities': array([0.16993526, 0.47244364, 0.3576211 ], dtype=float32),\n",
       "  'class_ids': array([1]),\n",
       "  'classes': array([b'1'], dtype=object)},\n",
       " {'logits': array([ 2.1260426 ,  0.7837106 , -0.84410065], dtype=float32),\n",
       "  'probabilities': array([0.76188636, 0.19903195, 0.03908169], dtype=float32),\n",
       "  'class_ids': array([0]),\n",
       "  'classes': array([b'0'], dtype=object)},\n",
       " {'logits': array([ 1.7129638,  0.6709017, -0.5512888], dtype=float32),\n",
       "  'probabilities': array([0.68651414, 0.24215178, 0.07133408], dtype=float32),\n",
       "  'class_ids': array([0]),\n",
       "  'classes': array([b'0'], dtype=object)},\n",
       " {'logits': array([ 1.733542  ,  0.8422331 , -0.70886636], dtype=float32),\n",
       "  'probabilities': array([0.6679715 , 0.27394754, 0.05808092], dtype=float32),\n",
       "  'class_ids': array([0]),\n",
       "  'classes': array([b'0'], dtype=object)},\n",
       " {'logits': array([-0.5911125,  0.4644424,  0.9189823], dtype=float32),\n",
       "  'probabilities': array([0.11903728, 0.34206188, 0.53890085], dtype=float32),\n",
       "  'class_ids': array([2]),\n",
       "  'classes': array([b'2'], dtype=object)},\n",
       " {'logits': array([ 1.0188274,  0.7605471, -0.5031485], dtype=float32),\n",
       "  'probabilities': array([0.5023463 , 0.38800156, 0.10965221], dtype=float32),\n",
       "  'class_ids': array([0]),\n",
       "  'classes': array([b'0'], dtype=object)},\n",
       " {'logits': array([ 1.2218544,  0.8239592, -0.5736547], dtype=float32),\n",
       "  'probabilities': array([0.54413617, 0.36551386, 0.09034994], dtype=float32),\n",
       "  'class_ids': array([0]),\n",
       "  'classes': array([b'0'], dtype=object)},\n",
       " {'logits': array([-0.44290397,  0.3446299 ,  0.54563683], dtype=float32),\n",
       "  'probabilities': array([0.16991547, 0.37346894, 0.45661557], dtype=float32),\n",
       "  'class_ids': array([2]),\n",
       "  'classes': array([b'2'], dtype=object)},\n",
       " {'logits': array([-0.5237511 ,  0.33267492,  0.76281935], dtype=float32),\n",
       "  'probabilities': array([0.14336754, 0.3375919 , 0.5190406 ], dtype=float32),\n",
       "  'class_ids': array([2]),\n",
       "  'classes': array([b'2'], dtype=object)},\n",
       " {'logits': array([ 1.2388   ,  1.12266  , -0.6101765], dtype=float32),\n",
       "  'probabilities': array([0.48834115, 0.43479484, 0.076864  ], dtype=float32),\n",
       "  'class_ids': array([0]),\n",
       "  'classes': array([b'0'], dtype=object)},\n",
       " {'logits': array([ 1.6889689 ,  0.7634324 , -0.68184346], dtype=float32),\n",
       "  'probabilities': array([0.67126554, 0.2660351 , 0.06269944], dtype=float32),\n",
       "  'class_ids': array([0]),\n",
       "  'classes': array([b'0'], dtype=object)},\n",
       " {'logits': array([-0.06136845,  0.6956089 ,  0.32921207], dtype=float32),\n",
       "  'probabilities': array([0.2169357 , 0.46246845, 0.32059592], dtype=float32),\n",
       "  'class_ids': array([1]),\n",
       "  'classes': array([b'1'], dtype=object)},\n",
       " {'logits': array([0.17950934, 0.7173722 , 0.23686694], dtype=float32),\n",
       "  'probabilities': array([0.26515508, 0.45403656, 0.2808084 ], dtype=float32),\n",
       "  'class_ids': array([1]),\n",
       "  'classes': array([b'1'], dtype=object)},\n",
       " {'logits': array([ 2.3216326,  0.7525625, -0.8284049], dtype=float32),\n",
       "  'probabilities': array([0.79930353, 0.16644596, 0.03425057], dtype=float32),\n",
       "  'class_ids': array([0]),\n",
       "  'classes': array([b'0'], dtype=object)}]"
      ]
     },
     "execution_count": 30,
     "metadata": {},
     "output_type": "execute_result"
    }
   ],
   "source": [
    "preds_dict"
   ]
  },
  {
   "cell_type": "code",
   "execution_count": 31,
   "metadata": {
    "ExecuteTime": {
     "end_time": "2019-03-24T16:11:09.457513Z",
     "start_time": "2019-03-24T16:11:09.455103Z"
    }
   },
   "outputs": [],
   "source": [
    "preds = [p['class_ids'][0] for p in preds]"
   ]
  },
  {
   "cell_type": "code",
   "execution_count": 33,
   "metadata": {
    "ExecuteTime": {
     "end_time": "2019-03-24T16:11:45.835252Z",
     "start_time": "2019-03-24T16:11:45.832843Z"
    }
   },
   "outputs": [],
   "source": [
    "import sklearn.metrics"
   ]
  },
  {
   "cell_type": "code",
   "execution_count": 34,
   "metadata": {
    "ExecuteTime": {
     "end_time": "2019-03-24T16:12:15.606390Z",
     "start_time": "2019-03-24T16:12:15.601087Z"
    }
   },
   "outputs": [
    {
     "name": "stdout",
     "output_type": "stream",
     "text": [
      "             precision    recall  f1-score   support\n",
      "\n",
      "          0       0.70      1.00      0.83        19\n",
      "          1       1.00      0.59      0.74        22\n",
      "          2       0.93      1.00      0.96        13\n",
      "\n",
      "avg / total       0.88      0.83      0.83        54\n",
      "\n"
     ]
    }
   ],
   "source": [
    "print(sklearn.metrics.classification_report(y_test,preds))"
   ]
  },
  {
   "cell_type": "markdown",
   "metadata": {},
   "source": [
    "____________\n",
    "______________"
   ]
  },
  {
   "cell_type": "markdown",
   "metadata": {},
   "source": [
    "# TensorFlow Keras"
   ]
  },
  {
   "cell_type": "code",
   "execution_count": 35,
   "metadata": {
    "ExecuteTime": {
     "end_time": "2019-03-24T16:50:27.474495Z",
     "start_time": "2019-03-24T16:50:27.472011Z"
    }
   },
   "outputs": [],
   "source": [
    "import tensorflow as tf"
   ]
  },
  {
   "cell_type": "code",
   "execution_count": 36,
   "metadata": {
    "ExecuteTime": {
     "end_time": "2019-03-24T16:53:59.084385Z",
     "start_time": "2019-03-24T16:53:59.082029Z"
    }
   },
   "outputs": [],
   "source": [
    "from tensorflow.contrib import keras"
   ]
  },
  {
   "cell_type": "markdown",
   "metadata": {},
   "source": [
    "### Create the Model"
   ]
  },
  {
   "cell_type": "code",
   "execution_count": 38,
   "metadata": {
    "ExecuteTime": {
     "end_time": "2019-03-24T17:22:19.206534Z",
     "start_time": "2019-03-24T17:22:19.203412Z"
    }
   },
   "outputs": [],
   "source": [
    "dnn_model = keras.models.Sequential()"
   ]
  },
  {
   "cell_type": "markdown",
   "metadata": {},
   "source": [
    "### Add Layers to the model"
   ]
  },
  {
   "cell_type": "code",
   "execution_count": 40,
   "metadata": {
    "ExecuteTime": {
     "end_time": "2019-03-24T17:22:35.243148Z",
     "start_time": "2019-03-24T17:22:35.152688Z"
    }
   },
   "outputs": [],
   "source": [
    "dnn_model.add(keras.layers.Dense(units=13, input_dim = 13, activation = 'relu'))\n",
    "dnn_model.add(keras.layers.Dense(units=13, input_dim = 13, activation = 'relu'))\n",
    "dnn_model.add(keras.layers.Dense(units=13, input_dim = 13, activation = 'relu'))\n",
    "dnn_model.add(keras.layers.Dense(units = 3, activation='softmax'))"
   ]
  },
  {
   "cell_type": "markdown",
   "metadata": {},
   "source": [
    "### Compile the Model"
   ]
  },
  {
   "cell_type": "code",
   "execution_count": 45,
   "metadata": {
    "ExecuteTime": {
     "end_time": "2019-03-24T17:27:55.351080Z",
     "start_time": "2019-03-24T17:27:55.254594Z"
    }
   },
   "outputs": [],
   "source": [
    "dnn_model.compile(optimizer='adam',\n",
    "                  loss = 'sparse_categorical_crossentropy',\n",
    "                  metrics = ['accuracy']) # Use sparse on categories that aren't one-hot encoded. If you one-hot encode, just use categorical crossentropy"
   ]
  },
  {
   "cell_type": "markdown",
   "metadata": {},
   "source": [
    "### Train Model"
   ]
  },
  {
   "cell_type": "code",
   "execution_count": 46,
   "metadata": {
    "ExecuteTime": {
     "end_time": "2019-03-24T17:27:58.399627Z",
     "start_time": "2019-03-24T17:27:56.616267Z"
    }
   },
   "outputs": [
    {
     "name": "stdout",
     "output_type": "stream",
     "text": [
      "Epoch 1/50\n",
      "124/124 [==============================] - 1s 4ms/step - loss: 0.1945 - acc: 0.9919\n",
      "Epoch 2/50\n",
      "124/124 [==============================] - 0s 90us/step - loss: 0.1831 - acc: 0.9839\n",
      "Epoch 3/50\n",
      "124/124 [==============================] - 0s 106us/step - loss: 0.1709 - acc: 0.9919\n",
      "Epoch 4/50\n",
      "124/124 [==============================] - 0s 112us/step - loss: 0.1633 - acc: 0.9919\n",
      "Epoch 5/50\n",
      "124/124 [==============================] - 0s 118us/step - loss: 0.1512 - acc: 0.9919\n",
      "Epoch 6/50\n",
      "124/124 [==============================] - 0s 148us/step - loss: 0.1459 - acc: 0.9919\n",
      "Epoch 7/50\n",
      "124/124 [==============================] - 0s 138us/step - loss: 0.1364 - acc: 0.9919\n",
      "Epoch 8/50\n",
      "124/124 [==============================] - 0s 115us/step - loss: 0.1317 - acc: 0.9919\n",
      "Epoch 9/50\n",
      "124/124 [==============================] - 0s 104us/step - loss: 0.1232 - acc: 0.9919\n",
      "Epoch 10/50\n",
      "124/124 [==============================] - 0s 111us/step - loss: 0.1161 - acc: 0.9919\n",
      "Epoch 11/50\n",
      "124/124 [==============================] - 0s 105us/step - loss: 0.1091 - acc: 0.9919\n",
      "Epoch 12/50\n",
      "124/124 [==============================] - 0s 97us/step - loss: 0.1028 - acc: 0.9919\n",
      "Epoch 13/50\n",
      "124/124 [==============================] - 0s 107us/step - loss: 0.0977 - acc: 0.9919\n",
      "Epoch 14/50\n",
      "124/124 [==============================] - 0s 140us/step - loss: 0.0921 - acc: 0.9919\n",
      "Epoch 15/50\n",
      "124/124 [==============================] - 0s 118us/step - loss: 0.0870 - acc: 0.9919\n",
      "Epoch 16/50\n",
      "124/124 [==============================] - 0s 122us/step - loss: 0.0840 - acc: 0.9919\n",
      "Epoch 17/50\n",
      "124/124 [==============================] - 0s 124us/step - loss: 0.0781 - acc: 0.9919\n",
      "Epoch 18/50\n",
      "124/124 [==============================] - 0s 123us/step - loss: 0.0740 - acc: 0.9919\n",
      "Epoch 19/50\n",
      "124/124 [==============================] - 0s 149us/step - loss: 0.0712 - acc: 0.9919\n",
      "Epoch 20/50\n",
      "124/124 [==============================] - 0s 138us/step - loss: 0.0664 - acc: 0.9919\n",
      "Epoch 21/50\n",
      "124/124 [==============================] - 0s 142us/step - loss: 0.0626 - acc: 1.0000\n",
      "Epoch 22/50\n",
      "124/124 [==============================] - 0s 119us/step - loss: 0.0593 - acc: 1.0000\n",
      "Epoch 23/50\n",
      "124/124 [==============================] - 0s 116us/step - loss: 0.0571 - acc: 1.0000\n",
      "Epoch 24/50\n",
      "124/124 [==============================] - 0s 111us/step - loss: 0.0544 - acc: 1.0000\n",
      "Epoch 25/50\n",
      "124/124 [==============================] - 0s 110us/step - loss: 0.0509 - acc: 1.0000\n",
      "Epoch 26/50\n",
      "124/124 [==============================] - 0s 104us/step - loss: 0.0483 - acc: 1.0000\n",
      "Epoch 27/50\n",
      "124/124 [==============================] - 0s 110us/step - loss: 0.0466 - acc: 1.0000\n",
      "Epoch 28/50\n",
      "124/124 [==============================] - 0s 97us/step - loss: 0.0446 - acc: 1.0000\n",
      "Epoch 29/50\n",
      "124/124 [==============================] - 0s 99us/step - loss: 0.0426 - acc: 1.0000\n",
      "Epoch 30/50\n",
      "124/124 [==============================] - 0s 103us/step - loss: 0.0396 - acc: 1.0000\n",
      "Epoch 31/50\n",
      "124/124 [==============================] - 0s 100us/step - loss: 0.0378 - acc: 1.0000\n",
      "Epoch 32/50\n",
      "124/124 [==============================] - 0s 96us/step - loss: 0.0369 - acc: 1.0000\n",
      "Epoch 33/50\n",
      "124/124 [==============================] - 0s 95us/step - loss: 0.0345 - acc: 1.0000\n",
      "Epoch 34/50\n",
      "124/124 [==============================] - 0s 113us/step - loss: 0.0340 - acc: 1.0000\n",
      "Epoch 35/50\n",
      "124/124 [==============================] - 0s 99us/step - loss: 0.0319 - acc: 1.0000\n",
      "Epoch 36/50\n",
      "124/124 [==============================] - 0s 109us/step - loss: 0.0299 - acc: 1.0000\n",
      "Epoch 37/50\n",
      "124/124 [==============================] - 0s 102us/step - loss: 0.0293 - acc: 1.0000\n",
      "Epoch 38/50\n",
      "124/124 [==============================] - 0s 99us/step - loss: 0.0275 - acc: 1.0000\n",
      "Epoch 39/50\n",
      "124/124 [==============================] - 0s 115us/step - loss: 0.0266 - acc: 1.0000\n",
      "Epoch 40/50\n",
      "124/124 [==============================] - 0s 103us/step - loss: 0.0251 - acc: 1.0000\n",
      "Epoch 41/50\n",
      "124/124 [==============================] - 0s 112us/step - loss: 0.0251 - acc: 1.0000\n",
      "Epoch 42/50\n",
      "124/124 [==============================] - 0s 104us/step - loss: 0.0231 - acc: 1.0000\n",
      "Epoch 43/50\n",
      "124/124 [==============================] - 0s 106us/step - loss: 0.0226 - acc: 1.0000\n",
      "Epoch 44/50\n",
      "124/124 [==============================] - 0s 113us/step - loss: 0.0216 - acc: 1.0000\n",
      "Epoch 45/50\n",
      "124/124 [==============================] - 0s 100us/step - loss: 0.0208 - acc: 1.0000\n",
      "Epoch 46/50\n",
      "124/124 [==============================] - 0s 92us/step - loss: 0.0206 - acc: 1.0000\n",
      "Epoch 47/50\n",
      "124/124 [==============================] - 0s 92us/step - loss: 0.0193 - acc: 1.0000\n",
      "Epoch 48/50\n",
      "124/124 [==============================] - 0s 87us/step - loss: 0.0182 - acc: 1.0000\n",
      "Epoch 49/50\n",
      "124/124 [==============================] - 0s 90us/step - loss: 0.0183 - acc: 1.0000\n",
      "Epoch 50/50\n",
      "124/124 [==============================] - 0s 79us/step - loss: 0.0172 - acc: 1.0000\n"
     ]
    },
    {
     "data": {
      "text/plain": [
       "<tensorflow.python.keras.callbacks.History at 0x1c2ab69978>"
      ]
     },
     "execution_count": 46,
     "metadata": {},
     "output_type": "execute_result"
    }
   ],
   "source": [
    "dnn_model.fit(scaled_x_train, y_train, epochs=50)"
   ]
  },
  {
   "cell_type": "code",
   "execution_count": 47,
   "metadata": {
    "ExecuteTime": {
     "end_time": "2019-03-24T17:28:48.757538Z",
     "start_time": "2019-03-24T17:28:48.667526Z"
    }
   },
   "outputs": [],
   "source": [
    "preds = dnn_model.predict_classes(scaled_x_test)"
   ]
  },
  {
   "cell_type": "code",
   "execution_count": 49,
   "metadata": {
    "ExecuteTime": {
     "end_time": "2019-03-24T17:29:28.216665Z",
     "start_time": "2019-03-24T17:29:28.211586Z"
    }
   },
   "outputs": [
    {
     "name": "stdout",
     "output_type": "stream",
     "text": [
      "             precision    recall  f1-score   support\n",
      "\n",
      "          0       0.86      1.00      0.93        19\n",
      "          1       1.00      0.86      0.93        22\n",
      "          2       1.00      1.00      1.00        13\n",
      "\n",
      "avg / total       0.95      0.94      0.94        54\n",
      "\n"
     ]
    }
   ],
   "source": [
    "print(sklearn.metrics.classification_report(y_test,preds))"
   ]
  },
  {
   "cell_type": "markdown",
   "metadata": {},
   "source": [
    "____________\n",
    "______________"
   ]
  },
  {
   "cell_type": "markdown",
   "metadata": {},
   "source": [
    "# Layers API\n",
    "\n",
    "https://www.tensorflow.org/tutorials/layers"
   ]
  },
  {
   "cell_type": "code",
   "execution_count": 51,
   "metadata": {
    "ExecuteTime": {
     "end_time": "2019-03-24T17:37:35.857807Z",
     "start_time": "2019-03-24T17:37:35.855339Z"
    }
   },
   "outputs": [],
   "source": [
    "import tensorflow as tf\n",
    "import pandas as pd"
   ]
  },
  {
   "cell_type": "markdown",
   "metadata": {},
   "source": [
    "## Formating Data"
   ]
  },
  {
   "cell_type": "code",
   "execution_count": 58,
   "metadata": {
    "ExecuteTime": {
     "end_time": "2019-03-24T17:39:02.799916Z",
     "start_time": "2019-03-24T17:39:02.795428Z"
    }
   },
   "outputs": [],
   "source": [
    "onehot_y_train = pd.get_dummies(y_train).values\n",
    "onehot_y_test = pd.get_dummies(y_test).values"
   ]
  },
  {
   "cell_type": "markdown",
   "metadata": {},
   "source": [
    "### Parameters"
   ]
  },
  {
   "cell_type": "code",
   "execution_count": 59,
   "metadata": {
    "ExecuteTime": {
     "end_time": "2019-03-24T17:42:45.040214Z",
     "start_time": "2019-03-24T17:42:45.037529Z"
    }
   },
   "outputs": [],
   "source": [
    "n_features = 13\n",
    "n_HL1 = 13\n",
    "n_HL2 = 13\n",
    "n_outputs = 3\n",
    "\n",
    "learning_rate = 0.01"
   ]
  },
  {
   "cell_type": "markdown",
   "metadata": {},
   "source": [
    "### Placeholder"
   ]
  },
  {
   "cell_type": "code",
   "execution_count": 60,
   "metadata": {
    "ExecuteTime": {
     "end_time": "2019-03-24T17:46:54.200919Z",
     "start_time": "2019-03-24T17:46:54.195297Z"
    }
   },
   "outputs": [],
   "source": [
    "x = tf.placeholder(tf.float32, shape = [None, n_features])\n",
    "y_true = tf.placeholder(tf.float32, shape = [None, n_outputs])"
   ]
  },
  {
   "cell_type": "markdown",
   "metadata": {},
   "source": [
    "### Activation Function"
   ]
  },
  {
   "cell_type": "code",
   "execution_count": 61,
   "metadata": {
    "ExecuteTime": {
     "end_time": "2019-03-24T17:47:05.323484Z",
     "start_time": "2019-03-24T17:47:05.320835Z"
    }
   },
   "outputs": [],
   "source": [
    "act_fxn = tf.nn.relu"
   ]
  },
  {
   "cell_type": "markdown",
   "metadata": {},
   "source": [
    "### Create Layers"
   ]
  },
  {
   "cell_type": "code",
   "execution_count": 63,
   "metadata": {
    "ExecuteTime": {
     "end_time": "2019-03-24T17:49:01.488717Z",
     "start_time": "2019-03-24T17:49:01.436995Z"
    }
   },
   "outputs": [],
   "source": [
    "HL1 = tf.contrib.layers.fully_connected(x, n_HL1, activation_fn= act_fxn)\n",
    "HL2 = tf.contrib.layers.fully_connected(HL1, n_HL2, activation_fn=act_fxn)\n",
    "\n",
    "output = tf.contrib.layers.fully_connected(HL2, n_outputs)"
   ]
  },
  {
   "cell_type": "markdown",
   "metadata": {},
   "source": [
    "### Loss Function"
   ]
  },
  {
   "cell_type": "code",
   "execution_count": 64,
   "metadata": {
    "ExecuteTime": {
     "end_time": "2019-03-24T17:49:37.948434Z",
     "start_time": "2019-03-24T17:49:37.888930Z"
    }
   },
   "outputs": [],
   "source": [
    "loss = tf.losses.softmax_cross_entropy(onehot_labels=y_true, logits= output)"
   ]
  },
  {
   "cell_type": "markdown",
   "metadata": {},
   "source": [
    "### Optimizer"
   ]
  },
  {
   "cell_type": "code",
   "execution_count": 67,
   "metadata": {
    "ExecuteTime": {
     "end_time": "2019-03-24T17:52:57.887498Z",
     "start_time": "2019-03-24T17:52:57.750281Z"
    }
   },
   "outputs": [],
   "source": [
    "optimizer = tf.train.AdamOptimizer(learning_rate)\n",
    "minimizer = optimizer.minimize(loss)"
   ]
  },
  {
   "cell_type": "markdown",
   "metadata": {},
   "source": [
    "### Init"
   ]
  },
  {
   "cell_type": "code",
   "execution_count": 77,
   "metadata": {
    "ExecuteTime": {
     "end_time": "2019-03-24T17:55:51.247437Z",
     "start_time": "2019-03-24T17:55:46.410669Z"
    }
   },
   "outputs": [],
   "source": [
    "init = tf.global_variables_initializer()\n",
    "training_steps = 10000\n",
    "\n",
    "with tf.Session() as sess:\n",
    "    sess.run(init)\n",
    "    \n",
    "    for i in range(training_steps):\n",
    "        sess.run(minimizer, feed_dict = {x: scaled_x_train, y_true: onehot_y_train})\n",
    "        \n",
    "    logits = output.eval(feed_dict={x:scaled_x_test})\n",
    "    preds = tf.argmax(logits, axis=1)\n",
    "    results = preds.eval()\n",
    "    "
   ]
  },
  {
   "cell_type": "code",
   "execution_count": 78,
   "metadata": {
    "ExecuteTime": {
     "end_time": "2019-03-24T17:55:51.331103Z",
     "start_time": "2019-03-24T17:55:51.326721Z"
    }
   },
   "outputs": [
    {
     "name": "stdout",
     "output_type": "stream",
     "text": [
      "             precision    recall  f1-score   support\n",
      "\n",
      "          0       1.00      1.00      1.00        19\n",
      "          1       1.00      1.00      1.00        22\n",
      "          2       1.00      1.00      1.00        13\n",
      "\n",
      "avg / total       1.00      1.00      1.00        54\n",
      "\n"
     ]
    }
   ],
   "source": [
    "print(sklearn.metrics.classification_report(y_test,results))"
   ]
  }
 ],
 "metadata": {
  "anaconda-cloud": {},
  "kernelspec": {
   "display_name": "Python 3",
   "language": "python",
   "name": "python3"
  },
  "language_info": {
   "codemirror_mode": {
    "name": "ipython",
    "version": 3
   },
   "file_extension": ".py",
   "mimetype": "text/x-python",
   "name": "python",
   "nbconvert_exporter": "python",
   "pygments_lexer": "ipython3",
   "version": "3.6.8"
  },
  "toc": {
   "base_numbering": 1,
   "nav_menu": {},
   "number_sections": true,
   "sideBar": true,
   "skip_h1_title": false,
   "title_cell": "Table of Contents",
   "title_sidebar": "Contents",
   "toc_cell": false,
   "toc_position": {},
   "toc_section_display": true,
   "toc_window_display": false
  },
  "varInspector": {
   "cols": {
    "lenName": 16,
    "lenType": 16,
    "lenVar": 40
   },
   "kernels_config": {
    "python": {
     "delete_cmd_postfix": "",
     "delete_cmd_prefix": "del ",
     "library": "var_list.py",
     "varRefreshCmd": "print(var_dic_list())"
    },
    "r": {
     "delete_cmd_postfix": ") ",
     "delete_cmd_prefix": "rm(",
     "library": "var_list.r",
     "varRefreshCmd": "cat(var_dic_list()) "
    }
   },
   "types_to_exclude": [
    "module",
    "function",
    "builtin_function_or_method",
    "instance",
    "_Feature"
   ],
   "window_display": false
  }
 },
 "nbformat": 4,
 "nbformat_minor": 2
}
