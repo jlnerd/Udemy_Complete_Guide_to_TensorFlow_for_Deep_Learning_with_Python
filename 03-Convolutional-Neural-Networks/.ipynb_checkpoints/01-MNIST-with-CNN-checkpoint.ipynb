{
 "cells": [
  {
   "cell_type": "markdown",
   "metadata": {},
   "source": [
    "# MNIST with CNN"
   ]
  },
  {
   "cell_type": "code",
   "execution_count": 1,
   "metadata": {},
   "outputs": [
    {
     "name": "stderr",
     "output_type": "stream",
     "text": [
      "/Users/johnleonard/anaconda3/lib/python3.6/site-packages/h5py/__init__.py:36: FutureWarning: Conversion of the second argument of issubdtype from `float` to `np.floating` is deprecated. In future, it will be treated as `np.float64 == np.dtype(float).type`.\n",
      "  from ._conv import register_converters as _register_converters\n"
     ]
    }
   ],
   "source": [
    "import tensorflow as tf\n",
    "import numpy as np"
   ]
  },
  {
   "cell_type": "code",
   "execution_count": 2,
   "metadata": {},
   "outputs": [],
   "source": [
    "from tensorflow.examples.tutorials.mnist import input_data"
   ]
  },
  {
   "cell_type": "code",
   "execution_count": 3,
   "metadata": {
    "scrolled": true
   },
   "outputs": [
    {
     "name": "stdout",
     "output_type": "stream",
     "text": [
      "WARNING:tensorflow:From <ipython-input-3-758d29429358>:1: read_data_sets (from tensorflow.contrib.learn.python.learn.datasets.mnist) is deprecated and will be removed in a future version.\n",
      "Instructions for updating:\n",
      "Please use alternatives such as official/mnist/dataset.py from tensorflow/models.\n",
      "WARNING:tensorflow:From /Users/johnleonard/anaconda3/lib/python3.6/site-packages/tensorflow/contrib/learn/python/learn/datasets/mnist.py:260: maybe_download (from tensorflow.contrib.learn.python.learn.datasets.base) is deprecated and will be removed in a future version.\n",
      "Instructions for updating:\n",
      "Please write your own downloading logic.\n",
      "WARNING:tensorflow:From /Users/johnleonard/anaconda3/lib/python3.6/site-packages/tensorflow/contrib/learn/python/learn/datasets/mnist.py:262: extract_images (from tensorflow.contrib.learn.python.learn.datasets.mnist) is deprecated and will be removed in a future version.\n",
      "Instructions for updating:\n",
      "Please use tf.data to implement this functionality.\n",
      "Extracting MNIST_data/train-images-idx3-ubyte.gz\n",
      "WARNING:tensorflow:From /Users/johnleonard/anaconda3/lib/python3.6/site-packages/tensorflow/contrib/learn/python/learn/datasets/mnist.py:267: extract_labels (from tensorflow.contrib.learn.python.learn.datasets.mnist) is deprecated and will be removed in a future version.\n",
      "Instructions for updating:\n",
      "Please use tf.data to implement this functionality.\n",
      "Extracting MNIST_data/train-labels-idx1-ubyte.gz\n",
      "WARNING:tensorflow:From /Users/johnleonard/anaconda3/lib/python3.6/site-packages/tensorflow/contrib/learn/python/learn/datasets/mnist.py:110: dense_to_one_hot (from tensorflow.contrib.learn.python.learn.datasets.mnist) is deprecated and will be removed in a future version.\n",
      "Instructions for updating:\n",
      "Please use tf.one_hot on tensors.\n",
      "Extracting MNIST_data/t10k-images-idx3-ubyte.gz\n",
      "Extracting MNIST_data/t10k-labels-idx1-ubyte.gz\n",
      "WARNING:tensorflow:From /Users/johnleonard/anaconda3/lib/python3.6/site-packages/tensorflow/contrib/learn/python/learn/datasets/mnist.py:290: DataSet.__init__ (from tensorflow.contrib.learn.python.learn.datasets.mnist) is deprecated and will be removed in a future version.\n",
      "Instructions for updating:\n",
      "Please use alternatives such as official/mnist/dataset.py from tensorflow/models.\n"
     ]
    }
   ],
   "source": [
    "mnist = input_data.read_data_sets(\"MNIST_data/\",one_hot=True)"
   ]
  },
  {
   "cell_type": "code",
   "execution_count": 4,
   "metadata": {},
   "outputs": [],
   "source": [
    "#Init Weights\n",
    "def init_weights(shape):\n",
    "    init_random_dist = tf.truncated_normal(shape,stddev=0.1)\n",
    "    return tf.Variable(init_random_dist)\n",
    "\n",
    "#Init bias values\n",
    "def init_bias(shape):\n",
    "    init_bias_vals = tf.constant(0.1,shape=shape)\n",
    "    return tf.Variable(init_bias_vals)\n",
    "\n",
    "#conv2d\n",
    "def conv2d(x,W):\n",
    "    \"\"\"\n",
    "    x: input tensor [batch,H,W,Channels]\n",
    "    W: kernel [filter H, filter W, Channels In, Channels Out]\n",
    "    \"\"\"\n",
    "    return tf.nn.conv2d(x,W,strides=[1,1,1,1], padding = 'SAME')\n",
    "\n",
    "#pooling\n",
    "def max_pooling_2x2(x):\n",
    "    \"\"\"\n",
    "    x: input tensor [batch, H, W, Channels]\n",
    "    \"\"\"\n",
    "    return tf.nn.max_pool(x,\n",
    "                          ksize=[1,2,2,1],#size of window for each dimension of input tensor\n",
    "                          strides=[1,2,2,1],#stride of the sliding window for each dimension of the input tensor\n",
    "                          padding='SAME')"
   ]
  },
  {
   "cell_type": "code",
   "execution_count": 5,
   "metadata": {},
   "outputs": [],
   "source": [
    "# conv layer\n",
    "def conv_layer(x, shape):\n",
    "    W = init_weights(shape)\n",
    "    b = init_bias([shape[3]])\n",
    "    return tf.nn.relu(conv2d(x,W)+b)\n",
    "\n",
    "# dense layer\n",
    "def dense_layer(input_layer,size):\n",
    "    input_size = int(input_layer.shape[1])\n",
    "    W = init_weights([input_size,size])\n",
    "    b = init_bias([size])\n",
    "    return tf.matmul(input_layer,W)+b"
   ]
  },
  {
   "cell_type": "code",
   "execution_count": 6,
   "metadata": {},
   "outputs": [],
   "source": [
    "# Build the model\n",
    "flat_img_width = int(mnist.test.images.shape[1])\n",
    "img_width = int(np.sqrt(flat_img_width))\n",
    "n_color_channels = int(1)\n",
    "n_classes = int(mnist.test.labels.shape[1])\n",
    "\n",
    "x = tf.placeholder(tf.float32,shape=[None,flat_img_width])\n",
    "y_true = tf.placeholder(tf.float32,shape=[None, n_classes])\n",
    "\n",
    "x_img = tf.reshape(x,shape=[-1,img_width,img_width,n_color_channels])\n",
    "\n",
    "n_initial_filters = 32\n",
    "conv_window_width = 5\n",
    "conv_1 = conv_layer(x_img, shape=[conv_window_width,conv_window_width,\n",
    "                                  n_color_channels,n_initial_filters])\n",
    "pool_1 = max_pooling_2x2(conv_1)\n",
    "conv_2 = conv_layer(pool_1, shape=[conv_window_width,conv_window_width,\n",
    "                                  int(n_initial_filters),int(n_initial_filters*2)])\n",
    "pool_2 = max_pooling_2x2(conv_2)\n",
    "\n",
    "flat_1 = tf.reshape(pool_2, [-1,int(pool_2.shape[1]*pool_2.shape[1]*n_initial_filters*2)])\n",
    "\n",
    "dense_1 = tf.nn.relu(dense_layer(flat_1,1024))\n",
    "\n",
    "#dropout\n",
    "keep_prob = tf.placeholder(tf.float32)\n",
    "dense_dropout = tf.nn.dropout(dense_1, keep_prob=keep_prob)\n",
    "\n",
    "#prediction\n",
    "y_pred = dense_layer(dense_dropout,n_classes)"
   ]
  },
  {
   "cell_type": "code",
   "execution_count": 7,
   "metadata": {},
   "outputs": [],
   "source": [
    "#loss\n",
    "loss = tf.reduce_mean(tf.nn.softmax_cross_entropy_with_logits_v2(labels = y_true,\n",
    "                                                              logits = y_pred))\n",
    "\n",
    "#optimizer\n",
    "optimizer = tf.train.AdamOptimizer(learning_rate=0.001)\n",
    "train = optimizer.minimize(loss)"
   ]
  },
  {
   "cell_type": "code",
   "execution_count": null,
   "metadata": {},
   "outputs": [
    {
     "name": "stdout",
     "output_type": "stream",
     "text": [
      "Step: 0\n",
      "\t Test Accuracy: 0.115\n",
      "Step: 100\n",
      "\t Test Accuracy: 0.9397\n",
      "Step: 200\n",
      "\t Test Accuracy: 0.9619\n",
      "Step: 300\n",
      "\t Test Accuracy: 0.9708\n",
      "Step: 400\n",
      "\t Test Accuracy: 0.9706\n",
      "Step: 500\n",
      "\t Test Accuracy: 0.9754\n",
      "Step: 600\n",
      "\t Test Accuracy: 0.9802\n",
      "Step: 700\n",
      "\t Test Accuracy: 0.9818\n",
      "Step: 800\n",
      "\t Test Accuracy: 0.9813\n",
      "Step: 900\n",
      "\t Test Accuracy: 0.9833\n",
      "Step: 1000\n",
      "\t Test Accuracy: 0.9855\n",
      "Step: 1100\n",
      "\t Test Accuracy: 0.9841\n",
      "Step: 1200\n",
      "\t Test Accuracy: 0.9797\n",
      "Step: 1300\n",
      "\t Test Accuracy: 0.9852\n",
      "Step: 1400\n",
      "\t Test Accuracy: 0.9846\n",
      "Step: 1500\n",
      "\t Test Accuracy: 0.9822\n"
     ]
    }
   ],
   "source": [
    "#Run the model\n",
    "init = tf.global_variables_initializer()\n",
    "steps = 5000\n",
    "\n",
    "with tf.Session() as sess:\n",
    "    sess.run(init)\n",
    "    \n",
    "    for i in range(steps):\n",
    "        batch_x, batch_y = mnist.train.next_batch(50)\n",
    "        sess.run(train, feed_dict={x:batch_x, \n",
    "                                   y_true:batch_y, \n",
    "                                   keep_prob: 0.5})\n",
    "        \n",
    "        true_prediction_list = tf.equal(tf.argmax(y_pred,1),tf.argmax(y_true,1))\n",
    "        accuracy = tf.reduce_mean(tf.cast(true_prediction_list,tf.float32))\n",
    "        \n",
    "        if i%100 == 0:\n",
    "            print('Step:',i)\n",
    "#             print('\\t Train Accuracy:',\n",
    "#                   sess.run(accuracy,feed_dict={x:mnist.train.images, \n",
    "#                                                y_true: mnist.train.labels,\n",
    "#                                                keep_prob:1.0}))\n",
    "            print('\\t Test Accuracy:',\n",
    "                  sess.run(accuracy,feed_dict={x:mnist.test.images, \n",
    "                                               y_true: mnist.test.labels,\n",
    "                                               keep_prob:1.0}))"
   ]
  },
  {
   "cell_type": "code",
   "execution_count": null,
   "metadata": {},
   "outputs": [],
   "source": []
  }
 ],
 "metadata": {
  "anaconda-cloud": {},
  "kernelspec": {
   "display_name": "Python 3",
   "language": "python",
   "name": "python3"
  },
  "language_info": {
   "codemirror_mode": {
    "name": "ipython",
    "version": 3
   },
   "file_extension": ".py",
   "mimetype": "text/x-python",
   "name": "python",
   "nbconvert_exporter": "python",
   "pygments_lexer": "ipython3",
   "version": "3.6.6"
  }
 },
 "nbformat": 4,
 "nbformat_minor": 2
}
