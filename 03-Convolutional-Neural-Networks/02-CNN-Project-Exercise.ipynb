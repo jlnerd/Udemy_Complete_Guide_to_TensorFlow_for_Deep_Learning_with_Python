{
 "cells": [
  {
   "cell_type": "markdown",
   "metadata": {},
   "source": [
    "## CNN-Project-Exercise\n",
    "We'll be using the CIFAR-10 dataset, which is very famous dataset for image recognition! \n",
    "\n",
    "The CIFAR-10 dataset consists of 60000 32x32 colour images in 10 classes, with 6000 images per class. There are 50000 training images and 10000 test images. \n",
    "\n",
    "The dataset is divided into five training batches and one test batch, each with 10000 images. The test batch contains exactly 1000 randomly-selected images from each class. The training batches contain the remaining images in random order, but some training batches may contain more images from one class than another. Between them, the training batches contain exactly 5000 images from each class. \n",
    "\n",
    "### Follow the Instructions in Bold, if you get stuck somewhere, view the solutions video! Most of the challenge with this project is actually dealing with the data and its dimensions, not from setting up the CNN itself!"
   ]
  },
  {
   "cell_type": "markdown",
   "metadata": {},
   "source": [
    "## Step 0: Get the Data\n",
    "\n",
    "** *Note: If you have trouble with this just watch the solutions video. This doesn't really have anything to do with the exercise, its more about setting up your data. Please make sure to watch the solutions video before posting any QA questions.* **"
   ]
  },
  {
   "cell_type": "markdown",
   "metadata": {},
   "source": [
    "** Download the data for CIFAR from here: https://www.cs.toronto.edu/~kriz/cifar.html **\n",
    "\n",
    "**Specifically the CIFAR-10 python version link: https://www.cs.toronto.edu/~kriz/cifar-10-python.tar.gz **\n",
    "\n",
    "** Remember the directory you save the file in! **"
   ]
  },
  {
   "cell_type": "code",
   "execution_count": 18,
   "metadata": {},
   "outputs": [],
   "source": [
    "# Put file path as a string here\n",
    "CIFAR_DIR = 'cifar-10-batches-py/'"
   ]
  },
  {
   "cell_type": "markdown",
   "metadata": {},
   "source": [
    "The archive contains the files data_batch_1, data_batch_2, ..., data_batch_5, as well as test_batch. Each of these files is a Python \"pickled\" object produced with cPickle. \n",
    "\n",
    "** Load the Data. Use the Code Below to load the data: **"
   ]
  },
  {
   "cell_type": "code",
   "execution_count": 19,
   "metadata": {},
   "outputs": [],
   "source": [
    "def unpickle(file):\n",
    "    import pickle\n",
    "    with open(file, 'rb') as fo:\n",
    "        cifar_dict = pickle.load(fo, encoding='bytes')\n",
    "    return cifar_dict"
   ]
  },
  {
   "cell_type": "code",
   "execution_count": 20,
   "metadata": {},
   "outputs": [],
   "source": [
    "dirs = ['batches.meta','data_batch_1','data_batch_2','data_batch_3','data_batch_4','data_batch_5','test_batch']"
   ]
  },
  {
   "cell_type": "code",
   "execution_count": 21,
   "metadata": {},
   "outputs": [],
   "source": [
    "all_data = [0,1,2,3,4,5,6]"
   ]
  },
  {
   "cell_type": "code",
   "execution_count": 22,
   "metadata": {},
   "outputs": [],
   "source": [
    "for i,direc in zip(all_data,dirs):\n",
    "    all_data[i] = unpickle(CIFAR_DIR+direc)"
   ]
  },
  {
   "cell_type": "code",
   "execution_count": 23,
   "metadata": {},
   "outputs": [],
   "source": [
    "batch_meta = all_data[0]\n",
    "data_batch1 = all_data[1]\n",
    "data_batch2 = all_data[2]\n",
    "data_batch3 = all_data[3]\n",
    "data_batch4 = all_data[4]\n",
    "data_batch5 = all_data[5]\n",
    "test_batch = all_data[6]"
   ]
  },
  {
   "cell_type": "code",
   "execution_count": 25,
   "metadata": {},
   "outputs": [
    {
     "data": {
      "text/plain": [
       "{b'num_cases_per_batch': 10000,\n",
       " b'label_names': [b'airplane',\n",
       "  b'automobile',\n",
       "  b'bird',\n",
       "  b'cat',\n",
       "  b'deer',\n",
       "  b'dog',\n",
       "  b'frog',\n",
       "  b'horse',\n",
       "  b'ship',\n",
       "  b'truck'],\n",
       " b'num_vis': 3072}"
      ]
     },
     "execution_count": 25,
     "metadata": {},
     "output_type": "execute_result"
    }
   ],
   "source": [
    "batch_meta"
   ]
  },
  {
   "cell_type": "markdown",
   "metadata": {},
   "source": [
    "** Why the 'b's in front of the string? **\n",
    "Bytes literals are always prefixed with 'b' or 'B'; they produce an instance of the bytes type instead of the str type. They may only contain ASCII characters; bytes with a numeric value of 128 or greater must be expressed with escapes.\n",
    "\n",
    "https://stackoverflow.com/questions/6269765/what-does-the-b-character-do-in-front-of-a-string-literal"
   ]
  },
  {
   "cell_type": "code",
   "execution_count": 26,
   "metadata": {},
   "outputs": [
    {
     "data": {
      "text/plain": [
       "dict_keys([b'batch_label', b'labels', b'data', b'filenames'])"
      ]
     },
     "execution_count": 26,
     "metadata": {},
     "output_type": "execute_result"
    }
   ],
   "source": [
    "data_batch1.keys()"
   ]
  },
  {
   "cell_type": "markdown",
   "metadata": {},
   "source": [
    "Loaded in this way, each of the batch files contains a dictionary with the following elements:\n",
    "* data -- a 10000x3072 numpy array of uint8s. Each row of the array stores a 32x32 colour image. The first 1024 entries contain the red channel values, the next 1024 the green, and the final 1024 the blue. The image is stored in row-major order, so that the first 32 entries of the array are the red channel values of the first row of the image.\n",
    "* labels -- a list of 10000 numbers in the range 0-9. The number at index i indicates the label of the ith image in the array data.\n",
    "\n",
    "The dataset contains another file, called batches.meta. It too contains a Python dictionary object. It has the following entries:\n",
    "\n",
    "* label_names -- a 10-element list which gives meaningful names to the numeric labels in the labels array described above. For example, label_names[0] == \"airplane\", label_names[1] == \"automobile\", etc."
   ]
  },
  {
   "cell_type": "markdown",
   "metadata": {},
   "source": [
    "### Display a single image using matplotlib.\n",
    "\n",
    "** Grab a single image from data_batch1 and display it with plt.imshow(). You'll need to reshape and transpose the numpy array inside the X = data_batch[b'data'] dictionary entry.**\n",
    "\n",
    "** It should end up looking like this: **\n",
    "\n",
    "    # Array of all images reshaped and formatted for viewing\n",
    "    X = X.reshape(10000, 3, 32, 32).transpose(0,2,3,1).astype(\"uint8\")"
   ]
  },
  {
   "cell_type": "code",
   "execution_count": 30,
   "metadata": {},
   "outputs": [],
   "source": [
    "import matplotlib.pyplot as plt\n",
    "import numpy as np\n",
    "import pandas as pd"
   ]
  },
  {
   "cell_type": "code",
   "execution_count": 34,
   "metadata": {},
   "outputs": [],
   "source": [
    "# Put the code here that transforms the X array!\n",
    "X = data_batch1[b\"data\"]\n",
    "X = X.reshape(10000, 3, 32, 32).transpose(0,2,3,1).astype(\"uint8\")"
   ]
  },
  {
   "cell_type": "code",
   "execution_count": 47,
   "metadata": {
    "scrolled": false
   },
   "outputs": [
    {
     "data": {
      "image/png": "[encoded data removed]",
      "text/plain": [
       "<Figure size 432x288 with 10 Axes>"
      ]
     },
     "metadata": {},
     "output_type": "display_data"
    }
   ],
   "source": [
    "for i in range(10):\n",
    "    plt.subplot(2,5,i+1)\n",
    "    plt.imshow(X[i])\n",
    "    plt.yticks(visible=False)\n",
    "    plt.xticks(visible=False)\n",
    "plt.tight_layout(rect=[0,0,2,1])\n",
    "plt.show()"
   ]
  },
  {
   "cell_type": "markdown",
   "metadata": {},
   "source": [
    "# Helper Functions for Dealing With Data.\n",
    "\n",
    "** Use the provided code below to help with dealing with grabbing the next batch once you've gotten ready to create the Graph Session. Can you break down how it works? **"
   ]
  },
  {
   "cell_type": "code",
   "execution_count": 48,
   "metadata": {},
   "outputs": [],
   "source": [
    "def one_hot_encode(vec, vals=10):\n",
    "    '''\n",
    "    For use to one-hot encode the 10- possible labels\n",
    "    '''\n",
    "    n = len(vec)\n",
    "    out = np.zeros((n, vals))\n",
    "    out[range(n), vec] = 1\n",
    "    return out"
   ]
  },
  {
   "cell_type": "code",
   "execution_count": 49,
   "metadata": {},
   "outputs": [],
   "source": [
    "class CifarHelper():\n",
    "    \n",
    "    def __init__(self):\n",
    "        self.i = 0\n",
    "        \n",
    "        # Grabs a list of all the data batches for training\n",
    "        self.all_train_batches = [data_batch1,data_batch2,data_batch3,data_batch4,data_batch5]\n",
    "        # Grabs a list of all the test batches (really just one batch)\n",
    "        self.test_batch = [test_batch]\n",
    "        \n",
    "        # Intialize some empty variables for later on\n",
    "        self.training_images = None\n",
    "        self.training_labels = None\n",
    "        \n",
    "        self.test_images = None\n",
    "        self.test_labels = None\n",
    "    \n",
    "    def set_up_images(self):\n",
    "        \n",
    "        print(\"Setting Up Training Images and Labels\")\n",
    "        \n",
    "        # Vertically stacks the training images\n",
    "        self.training_images = np.vstack([d[b\"data\"] for d in self.all_train_batches])\n",
    "        train_len = len(self.training_images)\n",
    "        \n",
    "        # Reshapes and normalizes training images\n",
    "        self.training_images = self.training_images.reshape(train_len,3,32,32).transpose(0,2,3,1)/255\n",
    "        # One hot Encodes the training labels (e.g. [0,0,0,1,0,0,0,0,0,0])\n",
    "        self.training_labels = one_hot_encode(np.hstack([d[b\"labels\"] for d in self.all_train_batches]), 10)\n",
    "        \n",
    "        print(\"Setting Up Test Images and Labels\")\n",
    "        \n",
    "        # Vertically stacks the test images\n",
    "        self.test_images = np.vstack([d[b\"data\"] for d in self.test_batch])\n",
    "        test_len = len(self.test_images)\n",
    "        \n",
    "        # Reshapes and normalizes test images\n",
    "        self.test_images = self.test_images.reshape(test_len,3,32,32).transpose(0,2,3,1)/255\n",
    "        # One hot Encodes the test labels (e.g. [0,0,0,1,0,0,0,0,0,0])\n",
    "        self.test_labels = one_hot_encode(np.hstack([d[b\"labels\"] for d in self.test_batch]), 10)\n",
    "\n",
    "    def next_batch(self, batch_size):\n",
    "        # Note that the 100 dimension in the reshape call is set by an assumed batch size of 100\n",
    "        x = self.training_images[self.i:self.i+batch_size].reshape(100,32,32,3)\n",
    "        y = self.training_labels[self.i:self.i+batch_size]\n",
    "        self.i = (self.i + batch_size) % len(self.training_images)\n",
    "        return x, y"
   ]
  },
  {
   "cell_type": "markdown",
   "metadata": {},
   "source": [
    "** How to use the above code: **"
   ]
  },
  {
   "cell_type": "code",
   "execution_count": 51,
   "metadata": {},
   "outputs": [
    {
     "name": "stdout",
     "output_type": "stream",
     "text": [
      "Setting Up Training Images and Labels\n",
      "Setting Up Test Images and Labels\n"
     ]
    }
   ],
   "source": [
    "# Before Your tf.Session run these two lines\n",
    "ch = CifarHelper()\n",
    "ch.set_up_images()\n",
    "\n",
    "# During your session to grab the next batch use this line\n",
    "# (Just like we did for mnist.train.next_batch)\n",
    "# batch = ch.next_batch(100)"
   ]
  },
  {
   "cell_type": "markdown",
   "metadata": {},
   "source": [
    "## Creating the Model\n",
    "\n",
    "** Import tensorflow **"
   ]
  },
  {
   "cell_type": "code",
   "execution_count": 52,
   "metadata": {},
   "outputs": [
    {
     "name": "stderr",
     "output_type": "stream",
     "text": [
      "/Users/johnleonard/anaconda3/lib/python3.6/site-packages/h5py/__init__.py:36: FutureWarning: Conversion of the second argument of issubdtype from `float` to `np.floating` is deprecated. In future, it will be treated as `np.float64 == np.dtype(float).type`.\n",
      "  from ._conv import register_converters as _register_converters\n"
     ]
    }
   ],
   "source": [
    "import tensorflow as tf"
   ]
  },
  {
   "cell_type": "code",
   "execution_count": 55,
   "metadata": {},
   "outputs": [
    {
     "data": {
      "text/plain": [
       "array([145, 153, 154], dtype=uint8)"
      ]
     },
     "execution_count": 55,
     "metadata": {},
     "output_type": "execute_result"
    }
   ],
   "source": [
    "X[1][1][1]"
   ]
  },
  {
   "cell_type": "markdown",
   "metadata": {},
   "source": [
    "** Create 2 placeholders, x and y_true. Their shapes should be: **\n",
    "\n",
    "* x shape = [None,32,32,3]\n",
    "* y_true shape = [None,10]\n"
   ]
  },
  {
   "cell_type": "code",
   "execution_count": 57,
   "metadata": {},
   "outputs": [],
   "source": [
    "x = tf.placeholder(tf.float32,shape=[None, 32, 32, 3],name='x')\n",
    "y_true = tf.placeholder(tf.float32, shape = [None,10],name='y_true')"
   ]
  },
  {
   "cell_type": "markdown",
   "metadata": {},
   "source": [
    "** Create one more placeholder called hold_prob. No need for shape here. This placeholder will just hold a single probability for the dropout. **"
   ]
  },
  {
   "cell_type": "code",
   "execution_count": 58,
   "metadata": {},
   "outputs": [],
   "source": [
    "keep_prob = tf.placeholder(tf.float32,name='keep_prob')"
   ]
  },
  {
   "cell_type": "markdown",
   "metadata": {},
   "source": [
    "### Helper Functions\n",
    "\n",
    "** Grab the helper functions from MNIST with CNN (or recreate them here yourself for a hard challenge!). You'll need: **\n",
    "\n",
    "* init_weights\n",
    "* init_bias\n",
    "* conv2d\n",
    "* max_pool_2by2\n",
    "* convolutional_layer\n",
    "* normal_full_layer"
   ]
  },
  {
   "cell_type": "code",
   "execution_count": 60,
   "metadata": {},
   "outputs": [],
   "source": [
    "def init_weights(shape):\n",
    "    init_random_dist = tf.truncated_normal(shape,stddev=0.1)\n",
    "    return tf.Variable(init_random_dist)\n",
    "def init_bias(shape):\n",
    "    init_bias_vals = tf.constant(0.1,shape=shape)\n",
    "    return tf.Variable(init_bias_vals)\n",
    "def conv2d(x,W):\n",
    "    return tf.nn.conv2d(x,W,strides=[1,1,1,1],padding=\"SAME\")\n",
    "def max_pool_2x2(x):\n",
    "    return tf.nn.max_pool(x,ksize=[1,2,2,1],strides=[1,2,2,1],padding=\"SAME\")\n",
    "def conv_layer(x,shape):\n",
    "    W = init_weights(shape)\n",
    "    b = init_bias([shape[3]])\n",
    "    return tf.nn.relu(conv2d(x,W)+b)\n",
    "def dense_layer(input_layer,size):\n",
    "    input_size = int(input_layer.shape[1])\n",
    "    W = init_weights([input_size,size])\n",
    "    b = init_bias([size])\n",
    "    return tf.matmul(input_layer,W)+b"
   ]
  },
  {
   "cell_type": "markdown",
   "metadata": {},
   "source": [
    "### Create the Layers\n",
    "\n",
    "** Create a convolutional layer and a pooling layer as we did for MNIST. **\n",
    "** Its up to you what the 2d size of the convolution should be, but the last two digits need to be 3 and 32 because of the 3 color channels and 32 pixels. So for example you could use:**\n",
    "\n",
    "        convo_1 = convolutional_layer(x,shape=[4,4,3,32])"
   ]
  },
  {
   "cell_type": "code",
   "execution_count": 99,
   "metadata": {},
   "outputs": [],
   "source": [
    "n_initial_filters = 32\n",
    "n_color_channels = int(3)\n",
    "conv_window = 4\n",
    "\n",
    "conv1 = conv_layer(x,[conv_window, conv_window, \n",
    "                      n_color_channels, \n",
    "                      n_initial_filters])\n",
    "pool1 = max_pool_2x2(conv1)\n",
    "\n",
    "conv2 = conv_layer(pool1,[conv_window,conv_window,\n",
    "                     int(n_initial_filters), int(n_initial_filters*2)])\n",
    "pool2 = max_pool_2x2(conv2)\n",
    "\n",
    "conv3 = conv_layer(pool2,[conv_window,conv_window,\n",
    "                     n_initial_filters*2, n_initial_filters*3])\n",
    "pool3 = max_pool_2x2(conv3)\n",
    "drop3 = tf.nn.dropout(pool3, keep_prob=keep_prob)\n",
    "\n",
    "conv4 = conv_layer(drop3,[conv_window,conv_window,\n",
    "                     n_initial_filters*3, n_initial_filters*4])\n",
    "pool4 = max_pool_2x2(conv4)\n",
    "drop4 = tf.nn.dropout(pool4, keep_prob=keep_prob)"
   ]
  },
  {
   "cell_type": "markdown",
   "metadata": {},
   "source": [
    "** Now create a flattened layer by reshaping the pooling layer into [-1,8 \\* 8 \\* 64] or [-1,4096] **"
   ]
  },
  {
   "cell_type": "code",
   "execution_count": 104,
   "metadata": {},
   "outputs": [],
   "source": [
    "flat1 = tf.reshape(drop4,[-1,int(drop4.shape[1]*drop4.shape[1]*drop4.shape[3])])"
   ]
  },
  {
   "cell_type": "markdown",
   "metadata": {},
   "source": [
    "** Create a new full layer using the normal_full_layer function and passing in your flattend convolutional 2 layer with size=1024. (You could also choose to reduce this to something like 512)**"
   ]
  },
  {
   "cell_type": "code",
   "execution_count": 111,
   "metadata": {},
   "outputs": [],
   "source": [
    "dense1 = tf.nn.relu(dense_layer(flat1,int(flat1.shape[1])))\n",
    "dense1_drop = tf.nn.dropout(dense1,keep_prob=keep_prob)\n",
    "dense2 = tf.nn.relu(dense_layer(dense1,int(int(dense1.shape[1])/2)))"
   ]
  },
  {
   "cell_type": "markdown",
   "metadata": {},
   "source": [
    "** Finally set the output to y_pred by passing in the dropout layer into the normal_full_layer function. The size should be 10 because of the 10 possible labels**"
   ]
  },
  {
   "cell_type": "code",
   "execution_count": 112,
   "metadata": {},
   "outputs": [],
   "source": [
    "n_labels = 10\n",
    "y_pred = dense_layer(dense2,n_labels)"
   ]
  },
  {
   "cell_type": "markdown",
   "metadata": {},
   "source": [
    "### Loss Function\n",
    "\n",
    "** Create a cross_entropy loss function **"
   ]
  },
  {
   "cell_type": "code",
   "execution_count": 113,
   "metadata": {},
   "outputs": [],
   "source": [
    "loss = tf.reduce_mean(tf.nn.softmax_cross_entropy_with_logits_v2(labels= y_true,\n",
    "                                                                 logits = y_pred))"
   ]
  },
  {
   "cell_type": "markdown",
   "metadata": {},
   "source": [
    "### Optimizer\n",
    "** Create the optimizer using an Adam Optimizer. **"
   ]
  },
  {
   "cell_type": "code",
   "execution_count": 114,
   "metadata": {},
   "outputs": [],
   "source": [
    "optimizer = tf.train.AdamOptimizer(learning_rate=0.001)\n",
    "train = optimizer.minimize(loss)"
   ]
  },
  {
   "cell_type": "markdown",
   "metadata": {},
   "source": [
    "** Create a variable to intialize all the global tf variables. **"
   ]
  },
  {
   "cell_type": "code",
   "execution_count": 115,
   "metadata": {},
   "outputs": [],
   "source": [
    "init = tf.global_variables_initializer()"
   ]
  },
  {
   "cell_type": "markdown",
   "metadata": {},
   "source": [
    "## Graph Session\n",
    "\n",
    "** Perform the training and test print outs in a Tf session and run your model! **"
   ]
  },
  {
   "cell_type": "code",
   "execution_count": 117,
   "metadata": {
    "scrolled": false
   },
   "outputs": [
    {
     "name": "stdout",
     "output_type": "stream",
     "text": [
      "Step: 0\n",
      "\t Train Accuracy: 0.13\n",
      "\t Test Accuracy: 0.0998\n",
      "Step: 100\n",
      "\t Train Accuracy: 0.18\n",
      "\t Test Accuracy: 0.1576\n",
      "Step: 200\n",
      "\t Train Accuracy: 0.28\n",
      "\t Test Accuracy: 0.2514\n",
      "Step: 300\n",
      "\t Train Accuracy: 0.33\n",
      "\t Test Accuracy: 0.3362\n",
      "Step: 400\n",
      "\t Train Accuracy: 0.48\n",
      "\t Test Accuracy: 0.36\n",
      "Step: 500\n",
      "\t Train Accuracy: 0.33\n",
      "\t Test Accuracy: 0.3885\n",
      "Step: 600\n",
      "\t Train Accuracy: 0.42\n",
      "\t Test Accuracy: 0.4139\n",
      "Step: 700\n",
      "\t Train Accuracy: 0.41\n",
      "\t Test Accuracy: 0.4193\n",
      "Step: 800\n",
      "\t Train Accuracy: 0.48\n",
      "\t Test Accuracy: 0.4219\n",
      "Step: 900\n",
      "\t Train Accuracy: 0.55\n",
      "\t Test Accuracy: 0.4608\n",
      "Step: 1000\n",
      "\t Train Accuracy: 0.45\n",
      "\t Test Accuracy: 0.4684\n",
      "Step: 1100\n",
      "\t Train Accuracy: 0.48\n",
      "\t Test Accuracy: 0.4841\n",
      "Step: 1200\n",
      "\t Train Accuracy: 0.49\n",
      "\t Test Accuracy: 0.499\n",
      "Step: 1300\n",
      "\t Train Accuracy: 0.6\n",
      "\t Test Accuracy: 0.5098\n",
      "Step: 1400\n",
      "\t Train Accuracy: 0.58\n",
      "\t Test Accuracy: 0.5165\n",
      "Step: 1500\n",
      "\t Train Accuracy: 0.55\n",
      "\t Test Accuracy: 0.5262\n",
      "Step: 1600\n",
      "\t Train Accuracy: 0.46\n",
      "\t Test Accuracy: 0.543\n",
      "Step: 1700\n",
      "\t Train Accuracy: 0.55\n",
      "\t Test Accuracy: 0.5327\n",
      "Step: 1800\n",
      "\t Train Accuracy: 0.65\n",
      "\t Test Accuracy: 0.5594\n",
      "Step: 1900\n",
      "\t Train Accuracy: 0.62\n",
      "\t Test Accuracy: 0.547\n",
      "Step: 2000\n",
      "\t Train Accuracy: 0.58\n",
      "\t Test Accuracy: 0.5662\n",
      "Step: 2100\n",
      "\t Train Accuracy: 0.53\n",
      "\t Test Accuracy: 0.5696\n",
      "Step: 2200\n",
      "\t Train Accuracy: 0.58\n",
      "\t Test Accuracy: 0.5646\n",
      "Step: 2300\n",
      "\t Train Accuracy: 0.64\n",
      "\t Test Accuracy: 0.5815\n",
      "Step: 2400\n",
      "\t Train Accuracy: 0.73\n",
      "\t Test Accuracy: 0.5733\n",
      "Step: 2500\n",
      "\t Train Accuracy: 0.58\n",
      "\t Test Accuracy: 0.5878\n",
      "Step: 2600\n",
      "\t Train Accuracy: 0.54\n",
      "\t Test Accuracy: 0.603\n",
      "Step: 2700\n",
      "\t Train Accuracy: 0.63\n",
      "\t Test Accuracy: 0.6012\n",
      "Step: 2800\n",
      "\t Train Accuracy: 0.67\n",
      "\t Test Accuracy: 0.595\n",
      "Step: 2900\n",
      "\t Train Accuracy: 0.75\n",
      "\t Test Accuracy: 0.5915\n",
      "Step: 3000\n",
      "\t Train Accuracy: 0.59\n",
      "\t Test Accuracy: 0.6249\n",
      "Step: 3100\n",
      "\t Train Accuracy: 0.61\n",
      "\t Test Accuracy: 0.6289\n",
      "Step: 3200\n",
      "\t Train Accuracy: 0.62\n",
      "\t Test Accuracy: 0.6008\n",
      "Step: 3300\n",
      "\t Train Accuracy: 0.64\n",
      "\t Test Accuracy: 0.6065\n",
      "Step: 3400\n",
      "\t Train Accuracy: 0.72\n",
      "\t Test Accuracy: 0.6284\n",
      "Step: 3500\n",
      "\t Train Accuracy: 0.63\n",
      "\t Test Accuracy: 0.6497\n",
      "Step: 3600\n",
      "\t Train Accuracy: 0.66\n",
      "\t Test Accuracy: 0.6406\n",
      "Step: 3700\n",
      "\t Train Accuracy: 0.68\n",
      "\t Test Accuracy: 0.641\n",
      "Step: 3800\n",
      "\t Train Accuracy: 0.71\n",
      "\t Test Accuracy: 0.6438\n",
      "Step: 3900\n",
      "\t Train Accuracy: 0.8\n",
      "\t Test Accuracy: 0.6487\n",
      "Step: 4000\n",
      "\t Train Accuracy: 0.67\n",
      "\t Test Accuracy: 0.6475\n",
      "Step: 4100\n",
      "\t Train Accuracy: 0.62\n",
      "\t Test Accuracy: 0.6565\n",
      "Step: 4200\n",
      "\t Train Accuracy: 0.66\n",
      "\t Test Accuracy: 0.6496\n",
      "Step: 4300\n",
      "\t Train Accuracy: 0.7\n",
      "\t Test Accuracy: 0.6435\n",
      "Step: 4400\n",
      "\t Train Accuracy: 0.77\n",
      "\t Test Accuracy: 0.6637\n",
      "Step: 4500\n",
      "\t Train Accuracy: 0.67\n",
      "\t Test Accuracy: 0.6594\n",
      "Step: 4600\n",
      "\t Train Accuracy: 0.66\n",
      "\t Test Accuracy: 0.6679\n",
      "Step: 4700\n",
      "\t Train Accuracy: 0.67\n",
      "\t Test Accuracy: 0.6573\n",
      "Step: 4800\n",
      "\t Train Accuracy: 0.73\n",
      "\t Test Accuracy: 0.6686\n",
      "Step: 4900\n",
      "\t Train Accuracy: 0.8\n",
      "\t Test Accuracy: 0.6679\n",
      "Step: 5000\n",
      "\t Train Accuracy: 0.67\n",
      "\t Test Accuracy: 0.6603\n",
      "Step: 5100\n",
      "\t Train Accuracy: 0.72\n",
      "\t Test Accuracy: 0.6769\n",
      "Step: 5200\n",
      "\t Train Accuracy: 0.69\n",
      "\t Test Accuracy: 0.6804\n",
      "Step: 5300\n",
      "\t Train Accuracy: 0.74\n",
      "\t Test Accuracy: 0.6849\n",
      "Step: 5400\n",
      "\t Train Accuracy: 0.81\n",
      "\t Test Accuracy: 0.6858\n",
      "Step: 5500\n",
      "\t Train Accuracy: 0.72\n",
      "\t Test Accuracy: 0.6827\n",
      "Step: 5600\n",
      "\t Train Accuracy: 0.65\n",
      "\t Test Accuracy: 0.6944\n",
      "Step: 5700\n",
      "\t Train Accuracy: 0.71\n",
      "\t Test Accuracy: 0.6874\n",
      "Step: 5800\n",
      "\t Train Accuracy: 0.76\n",
      "\t Test Accuracy: 0.6965\n",
      "Step: 5900\n",
      "\t Train Accuracy: 0.77\n",
      "\t Test Accuracy: 0.6905\n",
      "Step: 6000\n",
      "\t Train Accuracy: 0.74\n",
      "\t Test Accuracy: 0.69\n",
      "Step: 6100\n",
      "\t Train Accuracy: 0.75\n",
      "\t Test Accuracy: 0.7025\n",
      "Step: 6200\n",
      "\t Train Accuracy: 0.74\n",
      "\t Test Accuracy: 0.7066\n",
      "Step: 6300\n",
      "\t Train Accuracy: 0.77\n",
      "\t Test Accuracy: 0.6962\n",
      "Step: 6400\n",
      "\t Train Accuracy: 0.82\n",
      "\t Test Accuracy: 0.7111\n",
      "Step: 6500\n",
      "\t Train Accuracy: 0.7\n",
      "\t Test Accuracy: 0.6945\n",
      "Step: 6600\n",
      "\t Train Accuracy: 0.73\n",
      "\t Test Accuracy: 0.7134\n",
      "Step: 6700\n",
      "\t Train Accuracy: 0.75\n",
      "\t Test Accuracy: 0.7063\n",
      "Step: 6800\n",
      "\t Train Accuracy: 0.76\n",
      "\t Test Accuracy: 0.721\n",
      "Step: 6900\n",
      "\t Train Accuracy: 0.83\n",
      "\t Test Accuracy: 0.7096\n",
      "Step: 7000\n",
      "\t Train Accuracy: 0.7\n",
      "\t Test Accuracy: 0.6997\n",
      "Step: 7100\n",
      "\t Train Accuracy: 0.75\n",
      "\t Test Accuracy: 0.7301\n",
      "Step: 7200\n",
      "\t Train Accuracy: 0.75\n",
      "\t Test Accuracy: 0.7052\n",
      "Step: 7300\n",
      "\t Train Accuracy: 0.81\n",
      "\t Test Accuracy: 0.7176\n",
      "Step: 7400\n",
      "\t Train Accuracy: 0.85\n",
      "\t Test Accuracy: 0.7328\n",
      "Step: 7500\n",
      "\t Train Accuracy: 0.7\n",
      "\t Test Accuracy: 0.7142\n",
      "Step: 7600\n",
      "\t Train Accuracy: 0.74\n",
      "\t Test Accuracy: 0.7251\n",
      "Step: 7700\n",
      "\t Train Accuracy: 0.8\n",
      "\t Test Accuracy: 0.7282\n",
      "Step: 7800\n",
      "\t Train Accuracy: 0.8\n",
      "\t Test Accuracy: 0.7295\n",
      "Step: 7900\n",
      "\t Train Accuracy: 0.85\n",
      "\t Test Accuracy: 0.7229\n",
      "Step: 8000\n",
      "\t Train Accuracy: 0.81\n",
      "\t Test Accuracy: 0.7259\n",
      "Step: 8100\n",
      "\t Train Accuracy: 0.72\n",
      "\t Test Accuracy: 0.7298\n",
      "Step: 8200\n",
      "\t Train Accuracy: 0.77\n",
      "\t Test Accuracy: 0.7309\n",
      "Step: 8300\n",
      "\t Train Accuracy: 0.79\n",
      "\t Test Accuracy: 0.7342\n",
      "Step: 8400\n",
      "\t Train Accuracy: 0.88\n",
      "\t Test Accuracy: 0.7302\n",
      "Step: 8500\n",
      "\t Train Accuracy: 0.77\n",
      "\t Test Accuracy: 0.7248\n",
      "Step: 8600\n",
      "\t Train Accuracy: 0.75\n",
      "\t Test Accuracy: 0.7381\n",
      "Step: 8700\n",
      "\t Train Accuracy: 0.79\n",
      "\t Test Accuracy: 0.7394\n",
      "Step: 8800\n",
      "\t Train Accuracy: 0.79\n",
      "\t Test Accuracy: 0.7436\n",
      "Step: 8900\n",
      "\t Train Accuracy: 0.82\n",
      "\t Test Accuracy: 0.7238\n",
      "Step: 9000\n",
      "\t Train Accuracy: 0.78\n",
      "\t Test Accuracy: 0.7328\n",
      "Step: 9100\n",
      "\t Train Accuracy: 0.79\n",
      "\t Test Accuracy: 0.7303\n",
      "Step: 9200\n",
      "\t Train Accuracy: 0.81\n",
      "\t Test Accuracy: 0.7472\n",
      "Step: 9300\n",
      "\t Train Accuracy: 0.78\n",
      "\t Test Accuracy: 0.7435\n",
      "Step: 9400\n",
      "\t Train Accuracy: 0.89\n",
      "\t Test Accuracy: 0.7352\n",
      "Step: 9500\n",
      "\t Train Accuracy: 0.76\n",
      "\t Test Accuracy: 0.7467\n",
      "Step: 9600\n",
      "\t Train Accuracy: 0.8\n",
      "\t Test Accuracy: 0.7476\n",
      "Step: 9700\n",
      "\t Train Accuracy: 0.83\n",
      "\t Test Accuracy: 0.743\n",
      "Step: 9800\n",
      "\t Train Accuracy: 0.79\n",
      "\t Test Accuracy: 0.7481\n",
      "Step: 9900\n",
      "\t Train Accuracy: 0.85\n",
      "\t Test Accuracy: 0.7367\n"
     ]
    }
   ],
   "source": [
    "steps = 10000\n",
    "\n",
    "with tf.Session() as sess:\n",
    "    sess.run(init)\n",
    "    \n",
    "    for i in range(steps):\n",
    "        batch = ch.next_batch(100)\n",
    "        x_batch = batch[0]\n",
    "        y_batch = batch[1]\n",
    "        \n",
    "        sess.run(train, feed_dict={x:x_batch, \n",
    "                                   y_true:y_batch, \n",
    "                                   keep_prob:0.5})\n",
    "        \n",
    "        if i%100 == 0:\n",
    "            true_pred_list = tf.equal(tf.argmax(y_pred,1),tf.argmax(y_true,1))\n",
    "            accuracy = tf.reduce_mean(tf.cast(true_pred_list,tf.float32))\n",
    "            print('Step:',i)\n",
    "            print('\\t Train Accuracy:',\n",
    "                     sess.run(accuracy,feed_dict={x:x_batch,\n",
    "                                                    y_true:y_batch,\n",
    "                                                     keep_prob:1.0}))\n",
    "            print('\\t Test Accuracy:',\n",
    "                     sess.run(accuracy,feed_dict={x:ch.test_images,\n",
    "                                                    y_true:ch.test_labels,\n",
    "                                                     keep_prob:1.0}))"
   ]
  },
  {
   "cell_type": "code",
   "execution_count": null,
   "metadata": {},
   "outputs": [],
   "source": []
  }
 ],
 "metadata": {
  "kernelspec": {
   "display_name": "Python 3",
   "language": "python",
   "name": "python3"
  },
  "language_info": {
   "codemirror_mode": {
    "name": "ipython",
    "version": 3
   },
   "file_extension": ".py",
   "mimetype": "text/x-python",
   "name": "python",
   "nbconvert_exporter": "python",
   "pygments_lexer": "ipython3",
   "version": "3.6.6"
  }
 },
 "nbformat": 4,
 "nbformat_minor": 2
}
